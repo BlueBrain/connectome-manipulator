{
 "cells": [
  {
   "cell_type": "markdown",
   "metadata": {},
   "source": [
    "# Connectome Manipulation : Connection Removal\n",
    "\n",
    "## Introduction\n",
    "\n",
    "Welcome to this demonstration on manipulating connectomes within SONATA circuit models. This Jupyter notebook serves as a hands-on guide to understanding and implementing techniques for the modification of neural circuitry, with a particular focus on the removal of connections. Our exploration is designed to equip researchers and practitioners with the necessary tools and knowledge to advance their work in computational neuroscience and related fields.\n",
    "\n",
    "We will be removing 20% of connections between excitatory neurons in the circuit and 30% of the Inhibitory to Excitatory connections."
   ]
  },
  {
   "cell_type": "markdown",
   "metadata": {},
   "source": [
    "### Step 1: Download example circuit\n",
    "\n",
    "Download and uncompress SONATA network model of the rat somatosensory cortex from ZENODO (DOI [10.5281/zenodo.7930275](https://zenodo.org/doi/10.5281/zenodo.7930275)).\n"
   ]
  },
  {
   "cell_type": "markdown",
   "metadata": {},
   "source": [
    "### Step 2: Load necessary libraries and investigate the circuit content\n"
   ]
  },
  {
   "cell_type": "code",
   "execution_count": 1,
   "metadata": {},
   "outputs": [],
   "source": [
    "\"\"\" Global imports \"\"\"\n",
    "import json\n",
    "import os\n",
    "from pprint import pprint\n",
    "\n",
    "\"\"\" Local imports \"\"\"\n",
    "\n",
    "from connectome_manipulator.connectome_manipulation.manipulation import Manipulation\n",
    "# from connectome_manipulator.connectome_manipulation import connectome_manipulation\n",
    "# from connectome_manipulator.connectome_comparison import structural_comparator\n",
    "from pathlib import Path"
   ]
  },
  {
   "cell_type": "code",
   "execution_count": 2,
   "metadata": {},
   "outputs": [],
   "source": [
    "import connectome_manipulator"
   ]
  },
  {
   "cell_type": "code",
   "execution_count": 3,
   "metadata": {},
   "outputs": [],
   "source": [
    "# import circuit\n",
    "circuit_path = '/gpfs/bbp.cscs.ch/project/proj83/jira-tickets/NSETM-1948-extract-hex-O1/data/O1_data_physiology' # adjust the circuit config path\n",
    "circuit_config_path = f'{circuit_path}/circuit_config.json'\n",
    "circuit_name = 'SSCx'\n",
    "node_set = 'hex0'\n",
    "\n",
    "working_dir = './'\n",
    "output_path = './output'\n",
    "os.makedirs(output_path,exist_ok=True)"
   ]
  },
  {
   "cell_type": "code",
   "execution_count": 62,
   "metadata": {},
   "outputs": [],
   "source": [
    "from bluepysnap import Circuit\n",
    "\n",
    "c = Circuit('circuit_config.json')"
   ]
  },
  {
   "cell_type": "code",
   "execution_count": 63,
   "metadata": {},
   "outputs": [],
   "source": [
    "twohundred_ids = c.node_sets.content['hex0']['node_id'][:200]"
   ]
  },
  {
   "cell_type": "code",
   "execution_count": 64,
   "metadata": {
    "collapsed": true,
    "jupyter": {
     "outputs_hidden": true
    }
   },
   "outputs": [
    {
     "data": {
      "text/plain": [
       "[7,\n",
       " 10,\n",
       " 11,\n",
       " 23,\n",
       " 31,\n",
       " 38,\n",
       " 41,\n",
       " 42,\n",
       " 56,\n",
       " 62,\n",
       " 71,\n",
       " 73,\n",
       " 81,\n",
       " 91,\n",
       " 110,\n",
       " 122,\n",
       " 130,\n",
       " 137,\n",
       " 139,\n",
       " 141,\n",
       " 148,\n",
       " 156,\n",
       " 171,\n",
       " 172,\n",
       " 177,\n",
       " 194,\n",
       " 201,\n",
       " 215,\n",
       " 217,\n",
       " 219,\n",
       " 243,\n",
       " 255,\n",
       " 266,\n",
       " 270,\n",
       " 279,\n",
       " 287,\n",
       " 288,\n",
       " 296,\n",
       " 304,\n",
       " 305,\n",
       " 333,\n",
       " 345,\n",
       " 346,\n",
       " 350,\n",
       " 357,\n",
       " 360,\n",
       " 380,\n",
       " 386,\n",
       " 387,\n",
       " 391,\n",
       " 392,\n",
       " 393,\n",
       " 395,\n",
       " 424,\n",
       " 426,\n",
       " 446,\n",
       " 450,\n",
       " 455,\n",
       " 473,\n",
       " 476,\n",
       " 480,\n",
       " 498,\n",
       " 503,\n",
       " 512,\n",
       " 522,\n",
       " 523,\n",
       " 524,\n",
       " 538,\n",
       " 539,\n",
       " 550,\n",
       " 553,\n",
       " 554,\n",
       " 566,\n",
       " 569,\n",
       " 571,\n",
       " 578,\n",
       " 580,\n",
       " 586,\n",
       " 587,\n",
       " 597,\n",
       " 599,\n",
       " 600,\n",
       " 606,\n",
       " 614,\n",
       " 616,\n",
       " 625,\n",
       " 650,\n",
       " 653,\n",
       " 673,\n",
       " 680,\n",
       " 683,\n",
       " 691,\n",
       " 694,\n",
       " 711,\n",
       " 723,\n",
       " 739,\n",
       " 746,\n",
       " 760,\n",
       " 763,\n",
       " 766,\n",
       " 767,\n",
       " 782,\n",
       " 784,\n",
       " 810,\n",
       " 815,\n",
       " 824,\n",
       " 832,\n",
       " 838,\n",
       " 845,\n",
       " 846,\n",
       " 848,\n",
       " 850,\n",
       " 851,\n",
       " 859,\n",
       " 873,\n",
       " 877,\n",
       " 884,\n",
       " 887,\n",
       " 889,\n",
       " 890,\n",
       " 903,\n",
       " 913,\n",
       " 923,\n",
       " 924,\n",
       " 946,\n",
       " 956,\n",
       " 963,\n",
       " 970,\n",
       " 987,\n",
       " 989,\n",
       " 996,\n",
       " 1001,\n",
       " 1005,\n",
       " 1009,\n",
       " 1011,\n",
       " 1031,\n",
       " 1042,\n",
       " 1046,\n",
       " 1055,\n",
       " 1057,\n",
       " 1058,\n",
       " 1088,\n",
       " 1097,\n",
       " 1102,\n",
       " 1103,\n",
       " 1105,\n",
       " 1107,\n",
       " 1123,\n",
       " 1127,\n",
       " 1142,\n",
       " 1155,\n",
       " 1163,\n",
       " 1166,\n",
       " 1181,\n",
       " 1191,\n",
       " 1194,\n",
       " 1208,\n",
       " 1216,\n",
       " 1220,\n",
       " 1226,\n",
       " 1233,\n",
       " 1249,\n",
       " 1253,\n",
       " 1255,\n",
       " 1260,\n",
       " 1263,\n",
       " 1268,\n",
       " 1271,\n",
       " 1285,\n",
       " 1287,\n",
       " 1297,\n",
       " 1311,\n",
       " 1314,\n",
       " 1317,\n",
       " 1332,\n",
       " 1333,\n",
       " 1336,\n",
       " 1338,\n",
       " 1350,\n",
       " 1364,\n",
       " 1365,\n",
       " 1366,\n",
       " 1378,\n",
       " 1385,\n",
       " 1404,\n",
       " 1433,\n",
       " 1474,\n",
       " 1477,\n",
       " 1490,\n",
       " 1500,\n",
       " 1506,\n",
       " 1514,\n",
       " 1522,\n",
       " 1525,\n",
       " 1537,\n",
       " 1541,\n",
       " 1544,\n",
       " 1551,\n",
       " 1566,\n",
       " 1570]"
      ]
     },
     "execution_count": 64,
     "metadata": {},
     "output_type": "execute_result"
    }
   ],
   "source": [
    "twohundred_ids"
   ]
  },
  {
   "cell_type": "code",
   "execution_count": 65,
   "metadata": {},
   "outputs": [
    {
     "data": {
      "text/plain": [
       "CircuitNodeIds([('S1nonbarrel_neurons',    7),\n",
       "            ('S1nonbarrel_neurons',   10),\n",
       "            ('S1nonbarrel_neurons',   11),\n",
       "            ('S1nonbarrel_neurons',   23),\n",
       "            ('S1nonbarrel_neurons',   31),\n",
       "            ('S1nonbarrel_neurons',   38),\n",
       "            ('S1nonbarrel_neurons',   41),\n",
       "            ('S1nonbarrel_neurons',   42),\n",
       "            ('S1nonbarrel_neurons',   56),\n",
       "            ('S1nonbarrel_neurons',   62),\n",
       "            ...\n",
       "            ('S1nonbarrel_neurons', 1506),\n",
       "            ('S1nonbarrel_neurons', 1514),\n",
       "            ('S1nonbarrel_neurons', 1522),\n",
       "            ('S1nonbarrel_neurons', 1525),\n",
       "            ('S1nonbarrel_neurons', 1537),\n",
       "            ('S1nonbarrel_neurons', 1541),\n",
       "            ('S1nonbarrel_neurons', 1544),\n",
       "            ('S1nonbarrel_neurons', 1551),\n",
       "            ('S1nonbarrel_neurons', 1566),\n",
       "            ('S1nonbarrel_neurons', 1570)],\n",
       "           names=['population', 'node_ids'], length=200)"
      ]
     },
     "execution_count": 65,
     "metadata": {},
     "output_type": "execute_result"
    }
   ],
   "source": [
    "c.nodes.ids('small_hex0')"
   ]
  },
  {
   "cell_type": "code",
   "execution_count": 54,
   "metadata": {},
   "outputs": [
    {
     "data": {
      "text/plain": [
       "(3087,)"
      ]
     },
     "execution_count": 54,
     "metadata": {},
     "output_type": "execute_result"
    }
   ],
   "source": [
    "c.edges['S1nonbarrel_neurons__S1nonbarrel_neurons__chemical'].pair_edges(twohundred_ids,twohundred_ids).shape"
   ]
  },
  {
   "cell_type": "code",
   "execution_count": 37,
   "metadata": {},
   "outputs": [
    {
     "data": {
      "text/plain": [
       "(30190,)"
      ]
     },
     "execution_count": 37,
     "metadata": {},
     "output_type": "execute_result"
    }
   ],
   "source": [
    "c.nodes['S1nonbarrel_neurons'].ids('hex0').shape"
   ]
  },
  {
   "cell_type": "code",
   "execution_count": 5,
   "metadata": {},
   "outputs": [
    {
     "data": {
      "text/plain": [
       "{'POm': <bluepysnap.nodes.node_population.NodePopulation at 0x2aab7e775190>,\n",
       " 'S1nonbarrel_neurons': <bluepysnap.nodes.node_population.NodePopulation at 0x2aab7e7751f0>,\n",
       " 'VPM': <bluepysnap.nodes.node_population.NodePopulation at 0x2aab7e775280>,\n",
       " 'external_S1nonbarrel_neurons__S1nonbarrel_neurons__chemical': <bluepysnap.nodes.node_population.NodePopulation at 0x2aab7e7752b0>,\n",
       " 'external_midrange__S1nonbarrel_neurons__chemical': <bluepysnap.nodes.node_population.NodePopulation at 0x2aab7e775310>}"
      ]
     },
     "execution_count": 5,
     "metadata": {},
     "output_type": "execute_result"
    }
   ],
   "source": [
    "c.nodes._populations"
   ]
  },
  {
   "cell_type": "code",
   "execution_count": 6,
   "metadata": {},
   "outputs": [
    {
     "data": {
      "text/plain": [
       "{'POm__S1nonbarrel_neurons__chemical': <bluepysnap.edges.edge_population.EdgePopulation at 0x2aab7e775790>,\n",
       " 'S1nonbarrel_neurons__S1nonbarrel_neurons__chemical': <bluepysnap.edges.edge_population.EdgePopulation at 0x2aab7e775a00>,\n",
       " 'VPM__S1nonbarrel_neurons__chemical': <bluepysnap.edges.edge_population.EdgePopulation at 0x2aab7e775670>,\n",
       " 'external_S1nonbarrel_neurons__S1nonbarrel_neurons__chemical': <bluepysnap.edges.edge_population.EdgePopulation at 0x2aab7e775a90>,\n",
       " 'external_midrange__S1nonbarrel_neurons__chemical': <bluepysnap.edges.edge_population.EdgePopulation at 0x2aab7e7758e0>,\n",
       " 'midrange__S1nonbarrel_neurons__chemical': <bluepysnap.edges.edge_population.EdgePopulation at 0x2aab7e775af0>}"
      ]
     },
     "execution_count": 6,
     "metadata": {},
     "output_type": "execute_result"
    }
   ],
   "source": [
    "c.edges._populations"
   ]
  },
  {
   "cell_type": "code",
   "execution_count": 7,
   "metadata": {},
   "outputs": [
    {
     "name": "stdout",
     "output_type": "stream",
     "text": [
      "{'components': {'biophysical_neuron_models_dir': '/gpfs/bbp.cscs.ch/project/proj83/jira-tickets/NSETM-1948-extract-hex-O1/data/O1_data_physiology',\n",
      "                'mechanisms_dir': '/gpfs/bbp.cscs.ch/project/proj83/jira-tickets/NSETM-1948-extract-hex-O1/data/O1_data_physiology',\n",
      "                'morphologies_dir': '/gpfs/bbp.cscs.ch/project/proj83/jira-tickets/NSETM-1948-extract-hex-O1/data/O1_data_physiology',\n",
      "                'point_neuron_models_dir': '',\n",
      "                'provenance': {'atlas_dir': '/gpfs/bbp.cscs.ch/project/proj83/jira-tickets/NSETM-1948-extract-hex-O1/data/O1_data_physiology/atlas'},\n",
      "                'synaptic_models_dir': '',\n",
      "                'templates_dir': ''},\n",
      " 'networks': {'edges': [{'edges_file': '/gpfs/bbp.cscs.ch/project/proj83/jira-tickets/NSETM-1948-extract-hex-O1/data/O1_data_physiology/S1nonbarrel_neurons__S1nonbarrel_neurons__chemical/edges.h5',\n",
      "                         'populations': {'S1nonbarrel_neurons__S1nonbarrel_neurons__chemical': {'type': 'chemical'}}},\n",
      "                        {'edges_file': '/gpfs/bbp.cscs.ch/project/proj83/jira-tickets/NSETM-1948-extract-hex-O1/data/O1_data_physiology/VPM__S1nonbarrel_neurons__chemical/edges.h5',\n",
      "                         'populations': {'VPM__S1nonbarrel_neurons__chemical': {'type': 'chemical'}}},\n",
      "                        {'edges_file': '/gpfs/bbp.cscs.ch/project/proj83/jira-tickets/NSETM-1948-extract-hex-O1/data/O1_data_physiology/POm__S1nonbarrel_neurons__chemical/edges.h5',\n",
      "                         'populations': {'POm__S1nonbarrel_neurons__chemical': {'type': 'chemical'}}},\n",
      "                        {'edges_file': '/gpfs/bbp.cscs.ch/project/proj83/jira-tickets/NSETM-1948-extract-hex-O1/data/O1_data_physiology/midrange__S1nonbarrel_neurons__chemical/edges.h5',\n",
      "                         'populations': {'midrange__S1nonbarrel_neurons__chemical': {'type': 'chemical'}}},\n",
      "                        {'edges_file': '/gpfs/bbp.cscs.ch/project/proj83/jira-tickets/NSETM-1948-extract-hex-O1/data/O1_data_physiology/external_midrange__S1nonbarrel_neurons__chemical.h5',\n",
      "                         'populations': {'external_midrange__S1nonbarrel_neurons__chemical': {'type': 'chemical'}}},\n",
      "                        {'edges_file': '/gpfs/bbp.cscs.ch/project/proj83/jira-tickets/NSETM-1948-extract-hex-O1/data/O1_data_physiology/external_S1nonbarrel_neurons__S1nonbarrel_neurons__chemical.h5',\n",
      "                         'populations': {'external_S1nonbarrel_neurons__S1nonbarrel_neurons__chemical': {'type': 'chemical'}}}],\n",
      "              'nodes': [{'nodes_file': '/gpfs/bbp.cscs.ch/project/proj83/jira-tickets/NSETM-1948-extract-hex-O1/data/O1_data_physiology/S1nonbarrel_neurons/nodes.h5',\n",
      "                         'populations': {'S1nonbarrel_neurons': {'alternate_morphologies': {'neurolucida-asc': '/gpfs/bbp.cscs.ch/project/proj83/jira-tickets/NSETM-1948-extract-hex-O1/data/O1_data_physiology/morphologies/ascii'},\n",
      "                                                                 'biophysical_neuron_models_dir': '/gpfs/bbp.cscs.ch/project/proj83/jira-tickets/NSETM-1948-extract-hex-O1/data/O1_data_physiology/emodels_hoc',\n",
      "                                                                 'morphologies_dir': '/gpfs/bbp.cscs.ch/project/proj83/jira-tickets/NSETM-1948-extract-hex-O1/data/O1_data_physiology',\n",
      "                                                                 'type': 'biophysical'}}},\n",
      "                        {'nodes_file': '/gpfs/bbp.cscs.ch/project/proj83/jira-tickets/NSETM-1948-extract-hex-O1/data/O1_data_physiology/POm/nodes.h5',\n",
      "                         'populations': {'POm': {'type': 'virtual'}}},\n",
      "                        {'nodes_file': '/gpfs/bbp.cscs.ch/project/proj83/jira-tickets/NSETM-1948-extract-hex-O1/data/O1_data_physiology/VPM/nodes.h5',\n",
      "                         'populations': {'VPM': {'type': 'virtual'}}},\n",
      "                        {'nodes_file': '/gpfs/bbp.cscs.ch/project/proj83/jira-tickets/NSETM-1948-extract-hex-O1/data/O1_data_physiology/nodes_external_S1nonbarrel_neurons__S1nonbarrel_neurons__chemical.h5',\n",
      "                         'populations': {'external_S1nonbarrel_neurons__S1nonbarrel_neurons__chemical': {'type': 'virtual'}}},\n",
      "                        {'nodes_file': '/gpfs/bbp.cscs.ch/project/proj83/jira-tickets/NSETM-1948-extract-hex-O1/data/O1_data_physiology/nodes_external_midrange__S1nonbarrel_neurons__chemical.h5',\n",
      "                         'populations': {'external_midrange__S1nonbarrel_neurons__chemical': {'type': 'virtual'}}}]},\n",
      " 'node_sets_file': '/gpfs/bbp.cscs.ch/project/proj83/jira-tickets/NSETM-1948-extract-hex-O1/data/O1_data_physiology/node_sets.json',\n",
      " 'version': 2.3}\n"
     ]
    }
   ],
   "source": [
    "pprint(c.config)"
   ]
  },
  {
   "cell_type": "code",
   "execution_count": null,
   "metadata": {},
   "outputs": [],
   "source": [
    "{\n",
    "  \"circuit_config\": \"/gpfs/bbp.cscs.ch/project/proj83/jira-tickets/NSETM-1948-extract-hex-O1/data/O1_data/circuit_config.json\",\n",
    "  \"seed\": 3210,\n",
    "  \"manip\": {\n",
    "    \"name\": \"SSCX_hex0_inh_tc__hex0_rewired\",\n",
    "    \"fcts\": [\n",
    "      {\n",
    "        \"source\": \"conn_rewiring\",\n",
    "        \"sel_src\": {\n",
    "          \"node_set\": \"hex0\",\n",
    "          \"mtype\": [\n",
    "            \"L23_BTC\",\n",
    "            \"L23_SBC\",\n",
    "          ]\n",
    "        },\n",
    "        \"sel_dest\": {\n",
    "          \"node_set\": \"hex0\",\n",
    "          \"mtype\": [\n",
    "            \"L1_DAC\",\n",
    "          ]\n",
    "        },\n",
    "        \"syn_class\": \"INH\",\n",
    "        \"keep_indegree\": false,\n",
    "        \"reuse_conns\": false,\n",
    "        \"keep_conns\": false,\n",
    "        \"gen_method\": \"randomize\",\n",
    "        \"syn_pos_mode\": \"external\",\n",
    "        \"amount_pct\": 100,\n",
    "        \"pos_map_file\": \"/gpfs/bbp.cscs.ch/project/proj83/home/pokorny/SimplifiedConnectomeModels/model_building_v2/SSCx-HexO1-Release/model/FlatPosMapping-SSCxO1.json\",\n",
    "        \"model_config\": {\n",
    "          \"prob_model_spec\": {\n",
    "            \"file\": \"/gpfs/bbp.cscs.ch/project/proj83/home/pokorny/InterneuronRewiring/model_building/SSCx-HexO1-Release/model/ConnProbAdjModel-SSCX_hex0_inh_tc__hex0_rewired.json\"\n",
    "          },\n",
    "          \"nsynconn_model_spec\": {\n",
    "            \"file\": \"/gpfs/bbp.cscs.ch/project/proj83/home/pokorny/InterneuronRewiring/model_building/SSCx-HexO1-Release/model/SynaptomeModel-SSCX_hex0_inh_tc__hex0_rewired.json\"\n",
    "          },\n",
    "          \"syn_pos_model_spec\": {\n",
    "            \"file\": \"/gpfs/bbp.cscs.ch/project/proj83/home/pokorny/InterneuronRewiring/model_building/SSCx-HexO1-Release/model/SynapsePositionModel-SSCX_hex0_inh_tc__hex0_rewired.json\"\n",
    "          },\n",
    "          \"delay_model_spec\": {\n",
    "            \"file\": \"/gpfs/bbp.cscs.ch/project/proj83/home/pokorny/InterneuronRewiring/model_building/SSCx-HexO1-Release/model/DistDepDelay-SSCxO1-Hex0IntNrn.json\"\n",
    "          },\n",
    "          \"props_model_spec\": {\n",
    "            \"file\": \"/gpfs/bbp.cscs.ch/project/proj83/home/pokorny/InterneuronRewiring/model_building/SSCx-HexO1-Release/model/ConnPropsPerPathway-SSCxO1-Hex0IntNrn.json\"\n",
    "          }\n",
    "        }\n",
    "      }\n",
    "    ]\n",
    "  }\n",
    "}"
   ]
  },
  {
   "cell_type": "code",
   "execution_count": 8,
   "metadata": {
    "collapsed": true,
    "jupyter": {
     "outputs_hidden": true
    }
   },
   "outputs": [
    {
     "name": "stdout",
     "output_type": "stream",
     "text": [
      "{\n",
      "  \"working_dir\": \"./\",\n",
      "  \"out_dir\": \".output/\",\n",
      "  \"seed\": 7531,\n",
      "  \"circuit_config\": \"circuit_config.json\",\n",
      "  \"model\": {\n",
      "    \"name\": \"ConnProb1stOrder_hex_0\",\n",
      "    \"fct\": {\n",
      "      \"source\": \"conn_prob\",\n",
      "      \"kwargs\": {\n",
      "        \"order\": 1,\n",
      "        \"sel_src\": {\n",
      "          \"node_set\": \"hex_0\"\n",
      "        },\n",
      "        \"sel_dest\": {\n",
      "          \"node_set\": \"hex_0\"\n",
      "        },\n",
      "        \"sample_size\": null\n",
      "      }\n",
      "    }\n",
      "  }\n",
      "}\n"
     ]
    }
   ],
   "source": [
    "# # Model building - Configuration\n",
    "\n",
    "# model_config = {}\n",
    "\n",
    "# \"\"\" General settings \"\"\"\n",
    "# model_config['working_dir'] = './'\n",
    "# model_config['out_dir'] = '.output/'\n",
    "# model_config['seed'] = 7531\n",
    "\n",
    "# \"\"\" Model specifications \"\"\"\n",
    "# model_config['circuit_config'] = os.path.relpath(circuit_config_path, circuit_path)\n",
    "# #model_config['model'] = {'name': 'ConnProb1stOrderCA1', 'fct': {'source': 'conn_prob', 'kwargs': {'order': 1, 'sample_size': 10000}}}\n",
    "# model_config['model'] = {'name': f'ConnProb1stOrder_{node_set}',\n",
    "#                           'fct': {'source': 'conn_prob',\n",
    "#                                   'kwargs': {'order': 1,\n",
    "#                                              'sel_src': {'node_set': node_set},\n",
    "#                                              'sel_dest': {'node_set': node_set},\n",
    "#                                              'sample_size': None}}}\n",
    "\n",
    "\n",
    "\n",
    "# # Export model config for sbatch run\n",
    "# config_path = f'./'  # TODO do these in the model folder\n",
    "# Path(config_path).mkdir(parents=True, exist_ok=True)\n",
    "\n",
    "# with open(os.path.join(config_path, f'model_config__{model_config[\"model\"][\"name\"]}.json'), 'w') as f:\n",
    "#     json.dump(model_config, f, indent=2)\n",
    "# print(json.dumps(model_config, indent=2))"
   ]
  },
  {
   "cell_type": "markdown",
   "metadata": {},
   "source": [
    "### Step 3: Create the Manipulation Config\n",
    "\n",
    "Now that we know our node and edge populations in the circuit, we can start adressing them in the config file to specify what type of manipulation we want to perform"
   ]
  },
  {
   "cell_type": "code",
   "execution_count": 41,
   "metadata": {},
   "outputs": [],
   "source": [
    "# Manipulation specifications\n",
    "manip_config = {}\n",
    "\n",
    "amount_pct = 50 # Amount of target neurons to rewire afferent connections to\n",
    "\n",
    "# prob_model_file = '/gpfs/bbp.cscs.ch/project/proj112/home/kurban/hippdiss-422/ca1_ca3_to_slice10_synaptome.npz'\n",
    "# delay_model_file = os.path.join(models_path, f'DistDepDelay.json')\n",
    "#flatpos_model_file = os.path.join(models_path, 'SSFlatPosMappingHexO1.json')\n",
    "# props_model_file = os.path.join(models_path, 'ConnPropsPerPathway.json')\n",
    "\n",
    "#prob_fn = os.path.split(prob_model_file)[1]\n",
    "#order = int(''.join(filter(str.isdigit, prob_fn[:str.find(prob_fn, 'Order')])))\n",
    "\n",
    "manip_config['edges_popul_name'] = 'S1nonbarrel_neurons__S1nonbarrel_neurons__chemical'\n",
    "manip_config['manip'] = {'name': f'{circuit_name}_remove_conns',\n",
    "                         'fcts': [\n",
    "                             {'source': 'conn_removal',\n",
    "                                   'kwargs': {'sel_src': {'node_set': node_set,'synapse_class': 'EXC'},\n",
    "                                              'sel_dest': {'node_set': node_set},\n",
    "                                              'syn_class': 'EXC',\n",
    "                                              'keep_indegree': False,\n",
    "                                              'reuse_conns': True,\n",
    "                                              'gen_method': 'duplicate_randomize', \n",
    "                                              'amount_pct': amount_pct,\n",
    "                                             },\n",
    "                             'model_config':{}    \n",
    "                             },\n",
    "                            {'source': 'conn_removal',\n",
    "                                   'kwargs': {'sel_src': {'node_set': node_set,'synapse_class': 'INH'},\n",
    "                                              'sel_dest': {'node_set': node_set},\n",
    "                                              'syn_class': 'INH',\n",
    "                                              'keep_indegree': False,\n",
    "                                              'reuse_conns': True,\n",
    "                                              'gen_method': 'duplicate_randomize', \n",
    "                                              'amount_pct': amount_pct,\n",
    "                                             },\n",
    "                             'model_config':{}    \n",
    "                             },\n",
    "                            ]}\n",
    "\n",
    "## General settings\n",
    "manip_config['circuit_path'] = circuit_path\n",
    "manip_config['circuit_config'] = os.path.relpath(circuit_config_path, circuit_path) # SONATA (.json) format; path rel. to 'circuit_path'\n",
    "manip_config['output_path'] = f\"{output_path}/{manip_config['manip']['name']}\"\n",
    "manip_config['seed'] = 3220\n",
    "manip_config['N_split_nodes'] = 40\n",
    "manip_config['working_dir'] = f'{working_dir}'\n"
   ]
  },
  {
   "cell_type": "code",
   "execution_count": null,
   "metadata": {},
   "outputs": [],
   "source": []
  },
  {
   "cell_type": "code",
   "execution_count": 42,
   "metadata": {},
   "outputs": [
    {
     "name": "stdout",
     "output_type": "stream",
     "text": [
      "{'N_split_nodes': 40,\n",
      " 'circuit_config': 'circuit_config.json',\n",
      " 'circuit_path': '/gpfs/bbp.cscs.ch/project/proj83/jira-tickets/NSETM-1948-extract-hex-O1/data/O1_data_physiology',\n",
      " 'edges_popul_name': 'S1nonbarrel_neurons__S1nonbarrel_neurons__chemical',\n",
      " 'manip': {'fcts': [{'kwargs': {'amount_pct': 50,\n",
      "                                'gen_method': 'duplicate_randomize',\n",
      "                                'keep_indegree': False,\n",
      "                                'reuse_conns': True,\n",
      "                                'sel_dest': {'node_set': 'hex_0'},\n",
      "                                'sel_src': {'node_set': 'hex_0',\n",
      "                                            'synapse_class': 'EXC'},\n",
      "                                'syn_class': 'EXC'},\n",
      "                     'model_config': {},\n",
      "                     'source': 'conn_removal'},\n",
      "                    {'kwargs': {'amount_pct': 50,\n",
      "                                'gen_method': 'duplicate_randomize',\n",
      "                                'keep_indegree': False,\n",
      "                                'reuse_conns': True,\n",
      "                                'sel_dest': {'node_set': 'hex_0'},\n",
      "                                'sel_src': {'node_set': 'hex_0',\n",
      "                                            'synapse_class': 'INH'},\n",
      "                                'syn_class': 'INH'},\n",
      "                     'model_config': {},\n",
      "                     'source': 'conn_removal'}],\n",
      "           'name': 'SSCx_remove_conns'},\n",
      " 'output_path': './output/SSCx_remove_conns',\n",
      " 'seed': 3220,\n",
      " 'working_dir': './'}\n"
     ]
    }
   ],
   "source": [
    "pprint(manip_config)"
   ]
  },
  {
   "cell_type": "code",
   "execution_count": 43,
   "metadata": {},
   "outputs": [],
   "source": [
    "# Export model config for sbatch run\n",
    "\n",
    "with open(os.path.join(working_dir, f'manip_config.json'), 'w') as f:\n",
    "    json.dump(manip_config, f, indent=2)"
   ]
  },
  {
   "cell_type": "markdown",
   "metadata": {},
   "source": [
    "### Step 3: Run the connectome manipulator\n",
    "\n",
    "Now that we defined the manipulator config file, we can call the main method of the connectome manipulator from python. "
   ]
  },
  {
   "cell_type": "markdown",
   "metadata": {},
   "source": [
    "~~~\n",
    "sbatch run_rewiring_parallel.sh \"manip_config.json\" \"/gpfs/bbp.cscs.ch/project/proj112/home/kurban/christoph_paper/connectome_manipulator/examples/remove_connections/output\" 500\n",
    "~~~\n",
    "\n",
    "Serial Case:\n",
    "~~~\n",
    "sbatch run_rewiring_serial.sh manip_config.json /gpfs/bbp.cscs.ch/project/proj112/home/kurban/christoph_paper/connectome_manipulator/examples/remove_connections/output 1\n",
    "\n",
    "~~~"
   ]
  },
  {
   "cell_type": "code",
   "execution_count": 23,
   "metadata": {},
   "outputs": [],
   "source": [
    "from connectome_manipulator.connectome_manipulation import connectome_manipulation"
   ]
  },
  {
   "cell_type": "code",
   "execution_count": 24,
   "metadata": {},
   "outputs": [],
   "source": [
    "options = connectome_manipulation.Options(\n",
    "    config_path=manip_config,\n",
    "    output_path=manip_config['output_path'],\n",
    "    logging_path=f\"{manip_config['working_dir']}/logs\",\n",
    "    do_profiling=False,\n",
    "    do_resume=False,\n",
    "    keep_parquet=False,\n",
    "    convert_to_sonata=True,\n",
    "    overwrite_edges=False,\n",
    "    splits=40,\n",
    "    parallel=False)"
   ]
  },
  {
   "cell_type": "code",
   "execution_count": 25,
   "metadata": {},
   "outputs": [
    {
     "name": "stdout",
     "output_type": "stream",
     "text": [
      "/gpfs/bbp.cscs.ch/project/proj112/home/kurban/christoph_paper/connectome_manipulator/examples/remove_connections\n"
     ]
    }
   ],
   "source": [
    "!pwd"
   ]
  },
  {
   "cell_type": "code",
   "execution_count": 26,
   "metadata": {
    "collapsed": true,
    "jupyter": {
     "outputs_hidden": true
    }
   },
   "outputs": [
    {
     "ename": "TypeError",
     "evalue": "expected str, bytes or os.PathLike object, not dict",
     "output_type": "error",
     "traceback": [
      "\u001b[0;31m---------------------------------------------------------------------------\u001b[0m",
      "\u001b[0;31mTypeError\u001b[0m                                 Traceback (most recent call last)",
      "Cell \u001b[0;32mIn[26], line 1\u001b[0m\n\u001b[0;32m----> 1\u001b[0m \u001b[43mconnectome_manipulation\u001b[49m\u001b[38;5;241;43m.\u001b[39;49m\u001b[43mmain\u001b[49m\u001b[43m(\u001b[49m\u001b[43moptions\u001b[49m\u001b[43m,\u001b[49m\u001b[43m \u001b[49m\u001b[43mlog_file\u001b[49m\u001b[38;5;241;43m=\u001b[39;49m\u001b[38;5;124;43m'\u001b[39;49m\u001b[38;5;124;43m/gpfs/bbp.cscs.ch/project/proj112/home/kurban/christoph_paper/connectome_manipulator/examples/remove_connections/logs.txt\u001b[39;49m\u001b[38;5;124;43m'\u001b[39;49m\u001b[43m)\u001b[49m\n",
      "File \u001b[0;32m/gpfs/bbp.cscs.ch/ssd/apps/hpc/jenkins/deploy/externals/2021-01-06/linux-rhel7-x86_64/gcc-9.3.0/python-3.8.3-suxrst/lib/python3.8/contextlib.py:75\u001b[0m, in \u001b[0;36mContextDecorator.__call__.<locals>.inner\u001b[0;34m(*args, **kwds)\u001b[0m\n\u001b[1;32m     72\u001b[0m \u001b[38;5;129m@wraps\u001b[39m(func)\n\u001b[1;32m     73\u001b[0m \u001b[38;5;28;01mdef\u001b[39;00m \u001b[38;5;21minner\u001b[39m(\u001b[38;5;241m*\u001b[39margs, \u001b[38;5;241m*\u001b[39m\u001b[38;5;241m*\u001b[39mkwds):\n\u001b[1;32m     74\u001b[0m     \u001b[38;5;28;01mwith\u001b[39;00m \u001b[38;5;28mself\u001b[39m\u001b[38;5;241m.\u001b[39m_recreate_cm():\n\u001b[0;32m---> 75\u001b[0m         \u001b[38;5;28;01mreturn\u001b[39;00m \u001b[43mfunc\u001b[49m\u001b[43m(\u001b[49m\u001b[38;5;241;43m*\u001b[39;49m\u001b[43margs\u001b[49m\u001b[43m,\u001b[49m\u001b[43m \u001b[49m\u001b[38;5;241;43m*\u001b[39;49m\u001b[38;5;241;43m*\u001b[39;49m\u001b[43mkwds\u001b[49m\u001b[43m)\u001b[49m\n",
      "File \u001b[0;32m/gpfs/bbp.cscs.ch/project/proj112/home/kurban/christoph_paper/connectome_manipulator/connectome_manipulator/connectome_manipulation/connectome_manipulation.py:327\u001b[0m, in \u001b[0;36mmain\u001b[0;34m(options, log_file, executor_args)\u001b[0m\n\u001b[1;32m    324\u001b[0m \u001b[38;5;129m@profiler\u001b[39m\u001b[38;5;241m.\u001b[39mprofileit(name\u001b[38;5;241m=\u001b[39m\u001b[38;5;124m\"\u001b[39m\u001b[38;5;124mconnectome_manipulation_main\u001b[39m\u001b[38;5;124m\"\u001b[39m)\n\u001b[1;32m    325\u001b[0m \u001b[38;5;28;01mdef\u001b[39;00m \u001b[38;5;21mmain\u001b[39m(options, log_file, executor_args\u001b[38;5;241m=\u001b[39m()):\n\u001b[1;32m    326\u001b[0m \u001b[38;5;250m    \u001b[39m\u001b[38;5;124;03m\"\"\"Build local connectome.\"\"\"\u001b[39;00m\n\u001b[0;32m--> 327\u001b[0m     config \u001b[38;5;241m=\u001b[39m \u001b[43mutils\u001b[49m\u001b[38;5;241;43m.\u001b[39;49m\u001b[43mload_json\u001b[49m\u001b[43m(\u001b[49m\u001b[43moptions\u001b[49m\u001b[38;5;241;43m.\u001b[39;49m\u001b[43mconfig_path\u001b[49m\u001b[43m)\u001b[49m\n\u001b[1;32m    328\u001b[0m     sonata_config_file \u001b[38;5;241m=\u001b[39m config[\u001b[38;5;124m\"\u001b[39m\u001b[38;5;124mcircuit_config\u001b[39m\u001b[38;5;124m\"\u001b[39m]\n\u001b[1;32m    329\u001b[0m     edges_popul_name \u001b[38;5;241m=\u001b[39m config\u001b[38;5;241m.\u001b[39mget(\u001b[38;5;124m\"\u001b[39m\u001b[38;5;124medges_popul_name\u001b[39m\u001b[38;5;124m\"\u001b[39m)\n",
      "File \u001b[0;32m/gpfs/bbp.cscs.ch/project/proj112/home/kurban/christoph_paper/connectome_manipulator/connectome_manipulator/utils.py:57\u001b[0m, in \u001b[0;36mload_json\u001b[0;34m(filepath)\u001b[0m\n\u001b[1;32m     55\u001b[0m \u001b[38;5;28;01mdef\u001b[39;00m \u001b[38;5;21mload_json\u001b[39m(filepath: os\u001b[38;5;241m.\u001b[39mPathLike) \u001b[38;5;241m-\u001b[39m\u001b[38;5;241m>\u001b[39m Dict[Any, Any]:\n\u001b[1;32m     56\u001b[0m \u001b[38;5;250m    \u001b[39m\u001b[38;5;124;03m\"\"\"Load from JSON file.\"\"\"\u001b[39;00m\n\u001b[0;32m---> 57\u001b[0m     \u001b[38;5;28;01mreturn\u001b[39;00m json\u001b[38;5;241m.\u001b[39mloads(\u001b[43mPath\u001b[49m\u001b[43m(\u001b[49m\u001b[43mfilepath\u001b[49m\u001b[43m)\u001b[49m\u001b[38;5;241m.\u001b[39mread_bytes())\n",
      "File \u001b[0;32m/gpfs/bbp.cscs.ch/ssd/apps/hpc/jenkins/deploy/externals/2021-01-06/linux-rhel7-x86_64/gcc-9.3.0/python-3.8.3-suxrst/lib/python3.8/pathlib.py:1038\u001b[0m, in \u001b[0;36mPath.__new__\u001b[0;34m(cls, *args, **kwargs)\u001b[0m\n\u001b[1;32m   1036\u001b[0m \u001b[38;5;28;01mif\u001b[39;00m \u001b[38;5;28mcls\u001b[39m \u001b[38;5;129;01mis\u001b[39;00m Path:\n\u001b[1;32m   1037\u001b[0m     \u001b[38;5;28mcls\u001b[39m \u001b[38;5;241m=\u001b[39m WindowsPath \u001b[38;5;28;01mif\u001b[39;00m os\u001b[38;5;241m.\u001b[39mname \u001b[38;5;241m==\u001b[39m \u001b[38;5;124m'\u001b[39m\u001b[38;5;124mnt\u001b[39m\u001b[38;5;124m'\u001b[39m \u001b[38;5;28;01melse\u001b[39;00m PosixPath\n\u001b[0;32m-> 1038\u001b[0m \u001b[38;5;28mself\u001b[39m \u001b[38;5;241m=\u001b[39m \u001b[38;5;28;43mcls\u001b[39;49m\u001b[38;5;241;43m.\u001b[39;49m\u001b[43m_from_parts\u001b[49m\u001b[43m(\u001b[49m\u001b[43margs\u001b[49m\u001b[43m,\u001b[49m\u001b[43m \u001b[49m\u001b[43minit\u001b[49m\u001b[38;5;241;43m=\u001b[39;49m\u001b[38;5;28;43;01mFalse\u001b[39;49;00m\u001b[43m)\u001b[49m\n\u001b[1;32m   1039\u001b[0m \u001b[38;5;28;01mif\u001b[39;00m \u001b[38;5;129;01mnot\u001b[39;00m \u001b[38;5;28mself\u001b[39m\u001b[38;5;241m.\u001b[39m_flavour\u001b[38;5;241m.\u001b[39mis_supported:\n\u001b[1;32m   1040\u001b[0m     \u001b[38;5;28;01mraise\u001b[39;00m \u001b[38;5;167;01mNotImplementedError\u001b[39;00m(\u001b[38;5;124m\"\u001b[39m\u001b[38;5;124mcannot instantiate \u001b[39m\u001b[38;5;132;01m%r\u001b[39;00m\u001b[38;5;124m on your system\u001b[39m\u001b[38;5;124m\"\u001b[39m\n\u001b[1;32m   1041\u001b[0m                               \u001b[38;5;241m%\u001b[39m (\u001b[38;5;28mcls\u001b[39m\u001b[38;5;241m.\u001b[39m\u001b[38;5;18m__name__\u001b[39m,))\n",
      "File \u001b[0;32m/gpfs/bbp.cscs.ch/ssd/apps/hpc/jenkins/deploy/externals/2021-01-06/linux-rhel7-x86_64/gcc-9.3.0/python-3.8.3-suxrst/lib/python3.8/pathlib.py:679\u001b[0m, in \u001b[0;36mPurePath._from_parts\u001b[0;34m(cls, args, init)\u001b[0m\n\u001b[1;32m    674\u001b[0m \u001b[38;5;129m@classmethod\u001b[39m\n\u001b[1;32m    675\u001b[0m \u001b[38;5;28;01mdef\u001b[39;00m \u001b[38;5;21m_from_parts\u001b[39m(\u001b[38;5;28mcls\u001b[39m, args, init\u001b[38;5;241m=\u001b[39m\u001b[38;5;28;01mTrue\u001b[39;00m):\n\u001b[1;32m    676\u001b[0m     \u001b[38;5;66;03m# We need to call _parse_args on the instance, so as to get the\u001b[39;00m\n\u001b[1;32m    677\u001b[0m     \u001b[38;5;66;03m# right flavour.\u001b[39;00m\n\u001b[1;32m    678\u001b[0m     \u001b[38;5;28mself\u001b[39m \u001b[38;5;241m=\u001b[39m \u001b[38;5;28mobject\u001b[39m\u001b[38;5;241m.\u001b[39m\u001b[38;5;21m__new__\u001b[39m(\u001b[38;5;28mcls\u001b[39m)\n\u001b[0;32m--> 679\u001b[0m     drv, root, parts \u001b[38;5;241m=\u001b[39m \u001b[38;5;28;43mself\u001b[39;49m\u001b[38;5;241;43m.\u001b[39;49m\u001b[43m_parse_args\u001b[49m\u001b[43m(\u001b[49m\u001b[43margs\u001b[49m\u001b[43m)\u001b[49m\n\u001b[1;32m    680\u001b[0m     \u001b[38;5;28mself\u001b[39m\u001b[38;5;241m.\u001b[39m_drv \u001b[38;5;241m=\u001b[39m drv\n\u001b[1;32m    681\u001b[0m     \u001b[38;5;28mself\u001b[39m\u001b[38;5;241m.\u001b[39m_root \u001b[38;5;241m=\u001b[39m root\n",
      "File \u001b[0;32m/gpfs/bbp.cscs.ch/ssd/apps/hpc/jenkins/deploy/externals/2021-01-06/linux-rhel7-x86_64/gcc-9.3.0/python-3.8.3-suxrst/lib/python3.8/pathlib.py:663\u001b[0m, in \u001b[0;36mPurePath._parse_args\u001b[0;34m(cls, args)\u001b[0m\n\u001b[1;32m    661\u001b[0m     parts \u001b[38;5;241m+\u001b[39m\u001b[38;5;241m=\u001b[39m a\u001b[38;5;241m.\u001b[39m_parts\n\u001b[1;32m    662\u001b[0m \u001b[38;5;28;01melse\u001b[39;00m:\n\u001b[0;32m--> 663\u001b[0m     a \u001b[38;5;241m=\u001b[39m \u001b[43mos\u001b[49m\u001b[38;5;241;43m.\u001b[39;49m\u001b[43mfspath\u001b[49m\u001b[43m(\u001b[49m\u001b[43ma\u001b[49m\u001b[43m)\u001b[49m\n\u001b[1;32m    664\u001b[0m     \u001b[38;5;28;01mif\u001b[39;00m \u001b[38;5;28misinstance\u001b[39m(a, \u001b[38;5;28mstr\u001b[39m):\n\u001b[1;32m    665\u001b[0m         \u001b[38;5;66;03m# Force-cast str subclasses to str (issue #21127)\u001b[39;00m\n\u001b[1;32m    666\u001b[0m         parts\u001b[38;5;241m.\u001b[39mappend(\u001b[38;5;28mstr\u001b[39m(a))\n",
      "\u001b[0;31mTypeError\u001b[0m: expected str, bytes or os.PathLike object, not dict"
     ]
    }
   ],
   "source": [
    "connectome_manipulation.main(options, log_file='/gpfs/bbp.cscs.ch/project/proj112/home/kurban/christoph_paper/connectome_manipulator/examples/remove_connections/logs.txt')"
   ]
  },
  {
   "cell_type": "markdown",
   "metadata": {},
   "source": [
    "# get cli"
   ]
  },
  {
   "cell_type": "code",
   "execution_count": 27,
   "metadata": {},
   "outputs": [],
   "source": [
    "from connectome_manipulator.cli import manipulate_connectome"
   ]
  },
  {
   "cell_type": "code",
   "execution_count": 28,
   "metadata": {},
   "outputs": [
    {
     "ename": "TypeError",
     "evalue": "__init__() got an unexpected keyword argument 'output_dir'",
     "output_type": "error",
     "traceback": [
      "\u001b[0;31m---------------------------------------------------------------------------\u001b[0m",
      "\u001b[0;31mTypeError\u001b[0m                                 Traceback (most recent call last)",
      "Cell \u001b[0;32mIn[28], line 1\u001b[0m\n\u001b[0;32m----> 1\u001b[0m \u001b[43mmanipulate_connectome\u001b[49m\u001b[43m(\u001b[49m\n\u001b[1;32m      2\u001b[0m \u001b[43m    \u001b[49m\u001b[43mmanip_config\u001b[49m\u001b[43m,\u001b[49m\n\u001b[1;32m      3\u001b[0m \u001b[43m    \u001b[49m\u001b[43moutput_dir\u001b[49m\u001b[38;5;241;43m=\u001b[39;49m\u001b[43mmanip_config\u001b[49m\u001b[43m[\u001b[49m\u001b[38;5;124;43m'\u001b[39;49m\u001b[38;5;124;43moutput_path\u001b[39;49m\u001b[38;5;124;43m'\u001b[39;49m\u001b[43m]\u001b[49m\u001b[43m,\u001b[49m\n\u001b[1;32m      4\u001b[0m \u001b[43m    \u001b[49m\u001b[43mprofile\u001b[49m\u001b[38;5;241;43m=\u001b[39;49m\u001b[38;5;28;43;01mFalse\u001b[39;49;00m\u001b[43m,\u001b[49m\n\u001b[1;32m      5\u001b[0m \u001b[43m    \u001b[49m\u001b[43mresume\u001b[49m\u001b[38;5;241;43m=\u001b[39;49m\u001b[38;5;28;43;01mFalse\u001b[39;49;00m\u001b[43m,\u001b[49m\n\u001b[1;32m      6\u001b[0m \u001b[43m    \u001b[49m\u001b[43mkeep_parquet\u001b[49m\u001b[38;5;241;43m=\u001b[39;49m\u001b[38;5;28;43;01mFalse\u001b[39;49;00m\u001b[43m,\u001b[49m\n\u001b[1;32m      7\u001b[0m \u001b[43m    \u001b[49m\u001b[43mconvert_to_sonata\u001b[49m\u001b[38;5;241;43m=\u001b[39;49m\u001b[38;5;28;43;01mTrue\u001b[39;49;00m\u001b[43m,\u001b[49m\n\u001b[1;32m      8\u001b[0m \u001b[43m    \u001b[49m\u001b[43moverwrite_edges\u001b[49m\u001b[38;5;241;43m=\u001b[39;49m\u001b[38;5;28;43;01mFalse\u001b[39;49;00m\u001b[43m,\u001b[49m\n\u001b[1;32m      9\u001b[0m \u001b[43m    \u001b[49m\u001b[43msplits\u001b[49m\u001b[38;5;241;43m=\u001b[39;49m\u001b[38;5;241;43m40\u001b[39;49m\u001b[43m,\u001b[49m\n\u001b[1;32m     10\u001b[0m \u001b[43m    \u001b[49m\u001b[43mtarget_payload\u001b[49m\u001b[38;5;241;43m=\u001b[39;49m\u001b[38;5;241;43m20_000_000_000\u001b[39;49m\u001b[43m,\u001b[49m\n\u001b[1;32m     11\u001b[0m \u001b[43m    \u001b[49m\u001b[43mparallel\u001b[49m\u001b[38;5;241;43m=\u001b[39;49m\u001b[38;5;28;43;01mFalse\u001b[39;49;00m\u001b[43m,\u001b[49m\n\u001b[1;32m     12\u001b[0m \u001b[43m    \u001b[49m\u001b[43mparallel_arg\u001b[49m\u001b[38;5;241;43m=\u001b[39;49m\u001b[38;5;28;43;01mNone\u001b[39;49;00m\u001b[43m,\u001b[49m\n\u001b[1;32m     13\u001b[0m \u001b[43m)\u001b[49m\n",
      "File \u001b[0;32m/gpfs/bbp.cscs.ch/project/proj112/home/kurban/christoph_paper/venv_manip_paper/lib/python3.8/site-packages/click/core.py:1157\u001b[0m, in \u001b[0;36mBaseCommand.__call__\u001b[0;34m(self, *args, **kwargs)\u001b[0m\n\u001b[1;32m   1155\u001b[0m \u001b[38;5;28;01mdef\u001b[39;00m \u001b[38;5;21m__call__\u001b[39m(\u001b[38;5;28mself\u001b[39m, \u001b[38;5;241m*\u001b[39margs: t\u001b[38;5;241m.\u001b[39mAny, \u001b[38;5;241m*\u001b[39m\u001b[38;5;241m*\u001b[39mkwargs: t\u001b[38;5;241m.\u001b[39mAny) \u001b[38;5;241m-\u001b[39m\u001b[38;5;241m>\u001b[39m t\u001b[38;5;241m.\u001b[39mAny:\n\u001b[1;32m   1156\u001b[0m \u001b[38;5;250m    \u001b[39m\u001b[38;5;124;03m\"\"\"Alias for :meth:`main`.\"\"\"\u001b[39;00m\n\u001b[0;32m-> 1157\u001b[0m     \u001b[38;5;28;01mreturn\u001b[39;00m \u001b[38;5;28;43mself\u001b[39;49m\u001b[38;5;241;43m.\u001b[39;49m\u001b[43mmain\u001b[49m\u001b[43m(\u001b[49m\u001b[38;5;241;43m*\u001b[39;49m\u001b[43margs\u001b[49m\u001b[43m,\u001b[49m\u001b[43m \u001b[49m\u001b[38;5;241;43m*\u001b[39;49m\u001b[38;5;241;43m*\u001b[39;49m\u001b[43mkwargs\u001b[49m\u001b[43m)\u001b[49m\n",
      "File \u001b[0;32m/gpfs/bbp.cscs.ch/project/proj112/home/kurban/christoph_paper/venv_manip_paper/lib/python3.8/site-packages/click/core.py:1077\u001b[0m, in \u001b[0;36mBaseCommand.main\u001b[0;34m(self, args, prog_name, complete_var, standalone_mode, windows_expand_args, **extra)\u001b[0m\n\u001b[1;32m   1075\u001b[0m \u001b[38;5;28;01mtry\u001b[39;00m:\n\u001b[1;32m   1076\u001b[0m     \u001b[38;5;28;01mtry\u001b[39;00m:\n\u001b[0;32m-> 1077\u001b[0m         \u001b[38;5;28;01mwith\u001b[39;00m \u001b[38;5;28;43mself\u001b[39;49m\u001b[38;5;241;43m.\u001b[39;49m\u001b[43mmake_context\u001b[49m\u001b[43m(\u001b[49m\u001b[43mprog_name\u001b[49m\u001b[43m,\u001b[49m\u001b[43m \u001b[49m\u001b[43margs\u001b[49m\u001b[43m,\u001b[49m\u001b[43m \u001b[49m\u001b[38;5;241;43m*\u001b[39;49m\u001b[38;5;241;43m*\u001b[39;49m\u001b[43mextra\u001b[49m\u001b[43m)\u001b[49m \u001b[38;5;28;01mas\u001b[39;00m ctx:\n\u001b[1;32m   1078\u001b[0m             rv \u001b[38;5;241m=\u001b[39m \u001b[38;5;28mself\u001b[39m\u001b[38;5;241m.\u001b[39minvoke(ctx)\n\u001b[1;32m   1079\u001b[0m             \u001b[38;5;28;01mif\u001b[39;00m \u001b[38;5;129;01mnot\u001b[39;00m standalone_mode:\n",
      "File \u001b[0;32m/gpfs/bbp.cscs.ch/project/proj112/home/kurban/christoph_paper/venv_manip_paper/lib/python3.8/site-packages/click/core.py:938\u001b[0m, in \u001b[0;36mBaseCommand.make_context\u001b[0;34m(self, info_name, args, parent, **extra)\u001b[0m\n\u001b[1;32m    935\u001b[0m     \u001b[38;5;28;01mif\u001b[39;00m key \u001b[38;5;129;01mnot\u001b[39;00m \u001b[38;5;129;01min\u001b[39;00m extra:\n\u001b[1;32m    936\u001b[0m         extra[key] \u001b[38;5;241m=\u001b[39m value\n\u001b[0;32m--> 938\u001b[0m ctx \u001b[38;5;241m=\u001b[39m \u001b[38;5;28;43mself\u001b[39;49m\u001b[38;5;241;43m.\u001b[39;49m\u001b[43mcontext_class\u001b[49m\u001b[43m(\u001b[49m\n\u001b[1;32m    939\u001b[0m \u001b[43m    \u001b[49m\u001b[38;5;28;43mself\u001b[39;49m\u001b[43m,\u001b[49m\u001b[43m \u001b[49m\u001b[43minfo_name\u001b[49m\u001b[38;5;241;43m=\u001b[39;49m\u001b[43minfo_name\u001b[49m\u001b[43m,\u001b[49m\u001b[43m \u001b[49m\u001b[43mparent\u001b[49m\u001b[38;5;241;43m=\u001b[39;49m\u001b[43mparent\u001b[49m\u001b[43m,\u001b[49m\u001b[43m \u001b[49m\u001b[38;5;241;43m*\u001b[39;49m\u001b[38;5;241;43m*\u001b[39;49m\u001b[43mextra\u001b[49m\u001b[43m  \u001b[49m\u001b[38;5;66;43;03m# type: ignore\u001b[39;49;00m\n\u001b[1;32m    940\u001b[0m \u001b[43m\u001b[49m\u001b[43m)\u001b[49m\n\u001b[1;32m    942\u001b[0m \u001b[38;5;28;01mwith\u001b[39;00m ctx\u001b[38;5;241m.\u001b[39mscope(cleanup\u001b[38;5;241m=\u001b[39m\u001b[38;5;28;01mFalse\u001b[39;00m):\n\u001b[1;32m    943\u001b[0m     \u001b[38;5;28mself\u001b[39m\u001b[38;5;241m.\u001b[39mparse_args(ctx, args)\n",
      "\u001b[0;31mTypeError\u001b[0m: __init__() got an unexpected keyword argument 'output_dir'"
     ]
    }
   ],
   "source": [
    "manipulate_connectome(\n",
    "    manip_config,\n",
    "    output_dir=manip_config['output_path'],\n",
    "    profile=False,\n",
    "    resume=False,\n",
    "    keep_parquet=False,\n",
    "    convert_to_sonata=True,\n",
    "    overwrite_edges=False,\n",
    "    splits=40,\n",
    "    target_payload=20_000_000_000,\n",
    "    parallel=False,\n",
    "    parallel_arg=None,\n",
    ")"
   ]
  },
  {
   "cell_type": "code",
   "execution_count": null,
   "metadata": {},
   "outputs": [],
   "source": [
    "# Connectome manipulation - Apply manipulation\n",
    "## Run from notebook with the latest connectome manipulator !!! \n",
    "#connectome_manipulation.main(manip_config, do_profiling=True, do_resume=False, keep_parquet=False)\n",
    "\n",
    "## Run using sbatch\n",
    "# COMMAND: sbatch run_rewiring.sh <manip_config>.json 1 0 0"
   ]
  },
  {
   "cell_type": "code",
   "execution_count": null,
   "metadata": {},
   "outputs": [],
   "source": [
    "from subprocess import PIPE, run"
   ]
  },
  {
   "cell_type": "code",
   "execution_count": null,
   "metadata": {},
   "outputs": [],
   "source": [
    "# run rewiring\n",
    "\n",
    "idx = 0\n",
    "rewiring_script = '/gpfs/bbp.cscs.ch/project/proj112/home/kurban/HIPPDISS-470/connectome_manipulator/examples/working_dir/model_building/20211110-BioM_slice10/model/run_rewiring.sh'\n",
    "for i in os.listdir(config_path):\n",
    "    if not i.endswith('percent.json'):\n",
    "        continue\n",
    "\n",
    "    #if idx == 0:\n",
    "    #    idx+=1\n",
    "    #    continue\n",
    "\n",
    "    print(idx,end=' ')\n",
    "    idx+=1\n",
    "\n",
    "    command = ['sbatch',rewiring_script,f'{config_path}/{i}','1','0','0']\n",
    "    #print(command)\n",
    "\n",
    "    result = run(command, stdout=PIPE, stderr=PIPE, universal_newlines=True)\n",
    "    print(result.returncode, result.stdout, result.stderr)\n",
    "    #break"
   ]
  }
 ],
 "metadata": {
  "kernelspec": {
   "display_name": "venv_manip_paper",
   "language": "python",
   "name": "venv_manip_paper"
  },
  "language_info": {
   "codemirror_mode": {
    "name": "ipython",
    "version": 3
   },
   "file_extension": ".py",
   "mimetype": "text/x-python",
   "name": "python",
   "nbconvert_exporter": "python",
   "pygments_lexer": "ipython3",
   "version": "3.8.3"
  }
 },
 "nbformat": 4,
 "nbformat_minor": 4
}
