{
 "cells": [
  {
   "cell_type": "markdown",
   "metadata": {},
   "source": [
    "# Connectome Manipulation : Connection Removal\n",
    "\n",
    "## Introduction\n",
    "\n",
    "Welcome to this demonstration on manipulating connectomes within SONATA circuit models. This Jupyter notebook serves as a hands-on guide to understanding and implementing techniques for the modification of neural circuitry, with a particular focus on the removal of connections. Our exploration is designed to equip researchers and practitioners with the necessary tools and knowledge to advance their work in computational neuroscience and related fields.\n",
    "\n",
    "We will be removing 50% of connections between excitatory neurons in the circuit."
   ]
  },
  {
   "cell_type": "markdown",
   "metadata": {},
   "source": [
    "## Workflow\n",
    "\n",
    "### Step 1: Load the connectome "
   ]
  },
  {
   "cell_type": "code",
   "execution_count": 1,
   "metadata": {},
   "outputs": [],
   "source": [
    "\"\"\" Global imports \"\"\"\n",
    "import json\n",
    "import os\n",
    "from pprint import pprint\n",
    "from bluepysnap import Circuit\n",
    "\n",
    "\"\"\" Local imports \"\"\"\n",
    "\n",
    "from connectome_manipulator.connectome_manipulation.manipulation import Manipulation\n",
    "from pathlib import Path"
   ]
  },
  {
   "cell_type": "code",
   "execution_count": 15,
   "metadata": {},
   "outputs": [],
   "source": [
    "# import circuit\n",
    "circuit_path = '../../circuits/circuit_sonata_quick_scx_multi_circuit/' # adjust the circuit config path\n",
    "circuit_config_path = f'{circuit_path}/circuit_config.json'\n",
    "circuit_name = 'example'\n",
    "node_set = 'Mosaic_A'\n",
    "output_path = './output/'\n",
    "working_dir = '.'"
   ]
  },
  {
   "cell_type": "code",
   "execution_count": 16,
   "metadata": {},
   "outputs": [],
   "source": [
    "c = Circuit(circuit_config_path)"
   ]
  },
  {
   "cell_type": "code",
   "execution_count": 17,
   "metadata": {},
   "outputs": [
    {
     "data": {
      "text/plain": [
       "{'NodeA': <bluepysnap.nodes.node_population.NodePopulation at 0x2aab7ecf30a0>,\n",
       " 'NodeB': <bluepysnap.nodes.node_population.NodePopulation at 0x2aab7ed030a0>}"
      ]
     },
     "execution_count": 17,
     "metadata": {},
     "output_type": "execute_result"
    }
   ],
   "source": [
    "c.nodes._populations"
   ]
  },
  {
   "cell_type": "code",
   "execution_count": 18,
   "metadata": {},
   "outputs": [
    {
     "data": {
      "text/plain": [
       "{'NodeA__NodeA__chemical': <bluepysnap.edges.edge_population.EdgePopulation at 0x2aab7eb7c1f0>,\n",
       " 'NodeA__NodeB__chemical': <bluepysnap.edges.edge_population.EdgePopulation at 0x2aab7eb7cca0>,\n",
       " 'NodeB__NodeA__chemical': <bluepysnap.edges.edge_population.EdgePopulation at 0x2aab7eb7c910>,\n",
       " 'NodeB__NodeB__chemical': <bluepysnap.edges.edge_population.EdgePopulation at 0x2aab7e8b46d0>}"
      ]
     },
     "execution_count": 18,
     "metadata": {},
     "output_type": "execute_result"
    }
   ],
   "source": [
    "c.edges._populations"
   ]
  },
  {
   "cell_type": "markdown",
   "metadata": {},
   "source": [
    "### Step 2: Create the Manipulation Config\n",
    "\n",
    "Now that we know our node and edge populations in the circuit, we can start adressing them in the config file to specify what type of manipulation we want to perform"
   ]
  },
  {
   "cell_type": "code",
   "execution_count": 22,
   "metadata": {},
   "outputs": [],
   "source": [
    "# Manipulation specifications\n",
    "manip_config = {}\n",
    "\n",
    "amount_pct = 20 # Amount of target neurons to rewire afferent connections to\n",
    "edge_pop_name= 'NodeA__NodeA__chemical'\n",
    "\n",
    "manip_config['edges_popul_name'] = edge_pop_name\n",
    "manip_config['manip'] = {'name': f'{circuit_name}_remove_conns',\n",
    "                         'fcts': [\n",
    "                            {'source': 'conn_removal',\n",
    "                            'sel_src': {'node_set': node_set},\n",
    "                            'sel_dest': {'node_set': node_set},\n",
    "                            'amount_pct': amount_pct,\n",
    "                            'model_config':{}\n",
    "                            }\n",
    "                            ]}\n",
    "\n",
    "## General settings\n",
    "manip_config['circuit_config'] = circuit_config_path # SONATA (.json) format; path rel. to 'circuit_path'\n",
    "manip_config['seed'] = 3220"
   ]
  },
  {
   "cell_type": "code",
   "execution_count": 23,
   "metadata": {},
   "outputs": [
    {
     "name": "stdout",
     "output_type": "stream",
     "text": [
      "{'circuit_config': '../../circuits/circuit_sonata_quick_scx_multi_circuit//circuit_config.json',\n",
      " 'edges_popul_name': 'NodeA__NodeA__chemical',\n",
      " 'manip': {'fcts': [{'amount_pct': 20,\n",
      "                     'model_config': {},\n",
      "                     'sel_dest': {'node_set': 'Mosaic_A'},\n",
      "                     'sel_src': {'node_set': 'Mosaic_A'},\n",
      "                     'source': 'conn_removal'}],\n",
      "           'name': 'example_remove_conns'},\n",
      " 'seed': 3220}\n"
     ]
    }
   ],
   "source": [
    "pprint(manip_config)"
   ]
  },
  {
   "cell_type": "code",
   "execution_count": 24,
   "metadata": {},
   "outputs": [],
   "source": [
    "# Export model config for sbatch run\n",
    "\n",
    "with open(os.path.join(working_dir, f'manip_config.json'), 'w') as f:\n",
    "    json.dump(manip_config, f, indent=2)"
   ]
  },
  {
   "cell_type": "markdown",
   "metadata": {},
   "source": [
    "### Step 3: Run the connectome manipulator\n",
    "\n",
    "Now that we defined the manipulator config file, we can call the main method of the connectome manipulator from python. "
   ]
  },
  {
   "cell_type": "markdown",
   "metadata": {},
   "source": [
    "~~~\n",
    "sbatch run_rewiring_parallel.sh \"manip_config.json\" \"/path/to/output\" 500\n",
    "~~~"
   ]
  },
  {
   "cell_type": "markdown",
   "metadata": {},
   "source": [
    "### Step 4: Examine the manipulated circuit\n",
    "\n",
    "You can then use structural comparator feature of connectome manipulator to see effect of manipulation on the circuit"
   ]
  },
  {
   "cell_type": "code",
   "execution_count": null,
   "metadata": {},
   "outputs": [],
   "source": [
    "structural_comparison_output_path = f'{output_path}/structcomp'\n",
    "os.makedirs(structural_comparison_output_path,exist_ok=True)"
   ]
  },
  {
   "cell_type": "code",
   "execution_count": null,
   "metadata": {},
   "outputs": [],
   "source": [
    "with open('structcomp_config__Orig_vs_Manip.json', 'r') as f:\n",
    "    cfg_dict = json.load(f)\n",
    "cfg_dict['working_dir'] = structural_comparison_output_path\n",
    "cfg_dict['out_dir'] = structural_comparison_output_path\n",
    "cfg_dict['circuits']['0']['circuit_config'] = circuit_config_path\n",
    "cfg_dict['circuits']['1']['circuit_config'] = f'{output_path}/circuit_config.json'\n",
    "\n",
    "# add edges_popul_name for each analysis\n",
    "\n",
    "for plot_type in cfg_dict['plot_types']:\n",
    "    plot_type['fct']['kwargs']['edges_popul_name'] = edge_pop_name\n",
    "\n",
    "with open(f'{working_dir}/structcomp_config.json', 'w') as f:\n",
    "    json.dump(cfg_dict, f, indent=2)"
   ]
  },
  {
   "cell_type": "markdown",
   "metadata": {},
   "source": [
    "Examine the output directory for comparison and manipulated circuit. Then follow the other examples."
   ]
  }
 ],
 "metadata": {
  "kernelspec": {
   "display_name": "venv_manip_paper",
   "language": "python",
   "name": "venv_manip_paper"
  },
  "language_info": {
   "codemirror_mode": {
    "name": "ipython",
    "version": 3
   },
   "file_extension": ".py",
   "mimetype": "text/x-python",
   "name": "python",
   "nbconvert_exporter": "python",
   "pygments_lexer": "ipython3",
   "version": "3.8.3"
  }
 },
 "nbformat": 4,
 "nbformat_minor": 4
}
