{
 "cells": [
  {
   "cell_type": "markdown",
   "metadata": {},
   "source": [
    "# Connectome Manipulation : Connection Removal\n",
    "\n",
    "## Introduction\n",
    "\n",
    "Welcome to this demonstration on manipulating connectomes within SONATA circuit models. This Jupyter notebook serves as a hands-on guide to understanding and implementing techniques for the modification of neural circuitry, with a particular focus on the removal of connections. Our exploration is designed to equip researchers and practitioners with the necessary tools and knowledge to advance their work in computational neuroscience and related fields.\n",
    "\n",
    "We will be removing 20% of connections between excitatory neurons in the circuit and 30% of the Inhibitory to Excitatory connections."
   ]
  },
  {
   "cell_type": "markdown",
   "metadata": {},
   "source": [
    "### Step 1: Download example circuit\n",
    "\n",
    "Download and uncompress SONATA network model of the rat somatosensory cortex from ZENODO (DOI [10.5281/zenodo.7930275](https://zenodo.org/doi/10.5281/zenodo.7930275)).\n"
   ]
  },
  {
   "cell_type": "markdown",
   "metadata": {},
   "source": [
    "### Step 2: Load necessary libraries and investigate the circuit content\n"
   ]
  },
  {
   "cell_type": "code",
   "execution_count": 1,
   "metadata": {},
   "outputs": [],
   "source": [
    "\"\"\" Global imports \"\"\"\n",
    "import json\n",
    "import os\n",
    "from pprint import pprint\n",
    "\n",
    "\"\"\" Local imports \"\"\"\n",
    "\n",
    "from connectome_manipulator.connectome_manipulation.manipulation import Manipulation\n",
    "# from connectome_manipulator.connectome_manipulation import connectome_manipulation\n",
    "# from connectome_manipulator.connectome_comparison import structural_comparator\n",
    "from pathlib import Path"
   ]
  },
  {
   "cell_type": "code",
   "execution_count": 2,
   "metadata": {},
   "outputs": [],
   "source": [
    "#import connectome_manipulator"
   ]
  },
  {
   "cell_type": "code",
   "execution_count": 11,
   "metadata": {},
   "outputs": [],
   "source": [
    "# import circuit\n",
    "circuit_path = '/gpfs/bbp.cscs.ch/project/proj83/jira-tickets/NSETM-1948-extract-hex-O1/data/O1_data_physiology' # adjust the circuit config path\n",
    "circuit_config_path = f'{circuit_path}/circuit_config.json'\n",
    "circuit_name = 'SSCx'\n",
    "node_set = 'hex0'\n",
    "\n",
    "working_dir = './'\n",
    "output_path = './output'\n",
    "os.makedirs(output_path,exist_ok=True)"
   ]
  },
  {
   "cell_type": "code",
   "execution_count": 12,
   "metadata": {},
   "outputs": [],
   "source": [
    "from bluepysnap import Circuit\n",
    "\n",
    "c = Circuit(circuit_config_path)"
   ]
  },
  {
   "cell_type": "code",
   "execution_count": 13,
   "metadata": {},
   "outputs": [
    {
     "data": {
      "text/plain": [
       "{'POm': <bluepysnap.nodes.node_population.NodePopulation at 0x2aab7e950520>,\n",
       " 'S1nonbarrel_neurons': <bluepysnap.nodes.node_population.NodePopulation at 0x2aab7e950f10>,\n",
       " 'VPM': <bluepysnap.nodes.node_population.NodePopulation at 0x2aab7e950fd0>,\n",
       " 'external_S1nonbarrel_neurons__S1nonbarrel_neurons__chemical': <bluepysnap.nodes.node_population.NodePopulation at 0x2aab7e950d60>,\n",
       " 'external_midrange__S1nonbarrel_neurons__chemical': <bluepysnap.nodes.node_population.NodePopulation at 0x2aab7e95e040>}"
      ]
     },
     "execution_count": 13,
     "metadata": {},
     "output_type": "execute_result"
    }
   ],
   "source": [
    "c.nodes._populations"
   ]
  },
  {
   "cell_type": "code",
   "execution_count": 14,
   "metadata": {},
   "outputs": [
    {
     "data": {
      "text/plain": [
       "{'POm__S1nonbarrel_neurons__chemical': <bluepysnap.edges.edge_population.EdgePopulation at 0x2aab7e95e0d0>,\n",
       " 'S1nonbarrel_neurons__S1nonbarrel_neurons__chemical': <bluepysnap.edges.edge_population.EdgePopulation at 0x2aab7e95e190>,\n",
       " 'VPM__S1nonbarrel_neurons__chemical': <bluepysnap.edges.edge_population.EdgePopulation at 0x2aab7e95e220>,\n",
       " 'external_S1nonbarrel_neurons__S1nonbarrel_neurons__chemical': <bluepysnap.edges.edge_population.EdgePopulation at 0x2aab7e95e2b0>,\n",
       " 'external_midrange__S1nonbarrel_neurons__chemical': <bluepysnap.edges.edge_population.EdgePopulation at 0x2aab7e95e280>,\n",
       " 'midrange__S1nonbarrel_neurons__chemical': <bluepysnap.edges.edge_population.EdgePopulation at 0x2aab7e95e3a0>}"
      ]
     },
     "execution_count": 14,
     "metadata": {},
     "output_type": "execute_result"
    }
   ],
   "source": [
    "c.edges._populations"
   ]
  },
  {
   "cell_type": "code",
   "execution_count": 15,
   "metadata": {},
   "outputs": [
    {
     "name": "stdout",
     "output_type": "stream",
     "text": [
      "{'components': {'biophysical_neuron_models_dir': '/gpfs/bbp.cscs.ch/project/proj83/jira-tickets/NSETM-1948-extract-hex-O1/data/O1_data_physiology',\n",
      "                'mechanisms_dir': '/gpfs/bbp.cscs.ch/project/proj83/jira-tickets/NSETM-1948-extract-hex-O1/data/O1_data_physiology',\n",
      "                'morphologies_dir': '/gpfs/bbp.cscs.ch/project/proj83/jira-tickets/NSETM-1948-extract-hex-O1/data/O1_data_physiology',\n",
      "                'point_neuron_models_dir': '',\n",
      "                'provenance': {'atlas_dir': '/gpfs/bbp.cscs.ch/project/proj83/jira-tickets/NSETM-1948-extract-hex-O1/data/O1_data_physiology/atlas'},\n",
      "                'synaptic_models_dir': '',\n",
      "                'templates_dir': ''},\n",
      " 'networks': {'edges': [{'edges_file': '/gpfs/bbp.cscs.ch/project/proj83/jira-tickets/NSETM-1948-extract-hex-O1/data/O1_data_physiology/S1nonbarrel_neurons__S1nonbarrel_neurons__chemical/edges.h5',\n",
      "                         'populations': {'S1nonbarrel_neurons__S1nonbarrel_neurons__chemical': {'type': 'chemical'}}},\n",
      "                        {'edges_file': '/gpfs/bbp.cscs.ch/project/proj83/jira-tickets/NSETM-1948-extract-hex-O1/data/O1_data_physiology/VPM__S1nonbarrel_neurons__chemical/edges.h5',\n",
      "                         'populations': {'VPM__S1nonbarrel_neurons__chemical': {'type': 'chemical'}}},\n",
      "                        {'edges_file': '/gpfs/bbp.cscs.ch/project/proj83/jira-tickets/NSETM-1948-extract-hex-O1/data/O1_data_physiology/POm__S1nonbarrel_neurons__chemical/edges.h5',\n",
      "                         'populations': {'POm__S1nonbarrel_neurons__chemical': {'type': 'chemical'}}},\n",
      "                        {'edges_file': '/gpfs/bbp.cscs.ch/project/proj83/jira-tickets/NSETM-1948-extract-hex-O1/data/O1_data_physiology/midrange__S1nonbarrel_neurons__chemical/edges.h5',\n",
      "                         'populations': {'midrange__S1nonbarrel_neurons__chemical': {'type': 'chemical'}}},\n",
      "                        {'edges_file': '/gpfs/bbp.cscs.ch/project/proj83/jira-tickets/NSETM-1948-extract-hex-O1/data/O1_data_physiology/external_midrange__S1nonbarrel_neurons__chemical.h5',\n",
      "                         'populations': {'external_midrange__S1nonbarrel_neurons__chemical': {'type': 'chemical'}}},\n",
      "                        {'edges_file': '/gpfs/bbp.cscs.ch/project/proj83/jira-tickets/NSETM-1948-extract-hex-O1/data/O1_data_physiology/external_S1nonbarrel_neurons__S1nonbarrel_neurons__chemical.h5',\n",
      "                         'populations': {'external_S1nonbarrel_neurons__S1nonbarrel_neurons__chemical': {'type': 'chemical'}}}],\n",
      "              'nodes': [{'nodes_file': '/gpfs/bbp.cscs.ch/project/proj83/jira-tickets/NSETM-1948-extract-hex-O1/data/O1_data_physiology/S1nonbarrel_neurons/nodes.h5',\n",
      "                         'populations': {'S1nonbarrel_neurons': {'alternate_morphologies': {'neurolucida-asc': '/gpfs/bbp.cscs.ch/project/proj83/jira-tickets/NSETM-1948-extract-hex-O1/data/O1_data_physiology/morphologies/ascii'},\n",
      "                                                                 'biophysical_neuron_models_dir': '/gpfs/bbp.cscs.ch/project/proj83/jira-tickets/NSETM-1948-extract-hex-O1/data/O1_data_physiology/emodels_hoc',\n",
      "                                                                 'morphologies_dir': '/gpfs/bbp.cscs.ch/project/proj83/jira-tickets/NSETM-1948-extract-hex-O1/data/O1_data_physiology',\n",
      "                                                                 'type': 'biophysical'}}},\n",
      "                        {'nodes_file': '/gpfs/bbp.cscs.ch/project/proj83/jira-tickets/NSETM-1948-extract-hex-O1/data/O1_data_physiology/POm/nodes.h5',\n",
      "                         'populations': {'POm': {'type': 'virtual'}}},\n",
      "                        {'nodes_file': '/gpfs/bbp.cscs.ch/project/proj83/jira-tickets/NSETM-1948-extract-hex-O1/data/O1_data_physiology/VPM/nodes.h5',\n",
      "                         'populations': {'VPM': {'type': 'virtual'}}},\n",
      "                        {'nodes_file': '/gpfs/bbp.cscs.ch/project/proj83/jira-tickets/NSETM-1948-extract-hex-O1/data/O1_data_physiology/nodes_external_S1nonbarrel_neurons__S1nonbarrel_neurons__chemical.h5',\n",
      "                         'populations': {'external_S1nonbarrel_neurons__S1nonbarrel_neurons__chemical': {'type': 'virtual'}}},\n",
      "                        {'nodes_file': '/gpfs/bbp.cscs.ch/project/proj83/jira-tickets/NSETM-1948-extract-hex-O1/data/O1_data_physiology/nodes_external_midrange__S1nonbarrel_neurons__chemical.h5',\n",
      "                         'populations': {'external_midrange__S1nonbarrel_neurons__chemical': {'type': 'virtual'}}}]},\n",
      " 'node_sets_file': '/gpfs/bbp.cscs.ch/project/proj83/jira-tickets/NSETM-1948-extract-hex-O1/data/O1_data_physiology/node_sets.json',\n",
      " 'version': 2.3}\n"
     ]
    }
   ],
   "source": [
    "pprint(c.config)"
   ]
  },
  {
   "cell_type": "markdown",
   "metadata": {},
   "source": [
    "### Step 3: Create the Manipulation Config\n",
    "\n",
    "Now that we know our node and edge populations in the circuit, we can start adressing them in the config file to specify what type of manipulation we want to perform"
   ]
  },
  {
   "cell_type": "code",
   "execution_count": 34,
   "metadata": {},
   "outputs": [],
   "source": [
    "# Manipulation specifications\n",
    "manip_config = {}\n",
    "\n",
    "amount_pct = 20 # Amount of target neurons to rewire afferent connections to\n",
    "edge_pop_name= 'S1nonbarrel_neurons__S1nonbarrel_neurons__chemical'\n",
    "\n",
    "manip_config['edges_popul_name'] = edge_pop_name\n",
    "manip_config['manip'] = {'name': f'{circuit_name}_remove_conns',\n",
    "                         'fcts': [\n",
    "                            {'source': 'conn_removal',\n",
    "                                   'sel_src': {'node_set': node_set,'synapse_class': 'EXC'},\n",
    "                                    'sel_dest': {'node_set': node_set},\n",
    "                                    'amount_pct': amount_pct,\n",
    "                                    'model_config':{}\n",
    "                            }\n",
    "                            ]}\n",
    "\n",
    "## General settings\n",
    "manip_config['circuit_config'] = f\"./{os.path.relpath(circuit_config_path, circuit_path)}\" # SONATA (.json) format; path rel. to 'circuit_path'\n",
    "manip_config['seed'] = 3220"
   ]
  },
  {
   "cell_type": "code",
   "execution_count": 22,
   "metadata": {},
   "outputs": [
    {
     "name": "stdout",
     "output_type": "stream",
     "text": [
      "{'circuit_config': './circuit_config.json',\n",
      " 'edges_popul_name': 'S1nonbarrel_neurons__S1nonbarrel_neurons__chemical',\n",
      " 'manip': {'fcts': [{'amount_pct': 20,\n",
      "                     'model_config': {},\n",
      "                     'sel_dest': {'node_set': 'hex0'},\n",
      "                     'sel_src': {'node_set': 'hex0', 'synapse_class': 'EXC'},\n",
      "                     'source': 'conn_removal'}],\n",
      "           'name': 'SSCx_remove_conns'},\n",
      " 'seed': 3220}\n"
     ]
    }
   ],
   "source": [
    "pprint(manip_config)"
   ]
  },
  {
   "cell_type": "code",
   "execution_count": 24,
   "metadata": {},
   "outputs": [],
   "source": [
    "# Export model config for sbatch run\n",
    "\n",
    "with open(os.path.join(working_dir, f'manip_config.json'), 'w') as f:\n",
    "    json.dump(manip_config, f, indent=2)"
   ]
  },
  {
   "cell_type": "markdown",
   "metadata": {},
   "source": [
    "### Step 3: Run the connectome manipulator\n",
    "\n",
    "Now that we defined the manipulator config file, we can call the main method of the connectome manipulator from python. "
   ]
  },
  {
   "cell_type": "markdown",
   "metadata": {},
   "source": [
    "~~~\n",
    "sbatch run_rewiring_parallel.sh \"manip_config.json\" \"/path/to/output\" 500\n",
    "~~~"
   ]
  },
  {
   "cell_type": "markdown",
   "metadata": {},
   "source": [
    "### Step 4: Examine the manipulated circuit\n",
    "\n",
    "You can then use structural comparator feature of connectome manipulator to see effect of manipulation on the circuit"
   ]
  },
  {
   "cell_type": "code",
   "execution_count": 26,
   "metadata": {},
   "outputs": [],
   "source": [
    "structural_comparison_output_path = f'{output_path}/structcomp'"
   ]
  },
  {
   "cell_type": "code",
   "execution_count": 27,
   "metadata": {},
   "outputs": [
    {
     "data": {
      "text/plain": [
       "'./output/structcomp'"
      ]
     },
     "execution_count": 27,
     "metadata": {},
     "output_type": "execute_result"
    }
   ],
   "source": [
    "os.makedirs"
   ]
  },
  {
   "cell_type": "code",
   "execution_count": 36,
   "metadata": {},
   "outputs": [],
   "source": [
    "with open('structcomp_config__Orig_vs_Manip.json', 'r') as f:\n",
    "    cfg_dict = json.load(f)\n",
    "cfg_dict['working_dir'] = structural_comparison_output_path\n",
    "cfg_dict['out_dir'] = structural_comparison_output_path\n",
    "cfg_dict['circuits']['0']['circuit_config'] = circuit_config_path\n",
    "cfg_dict['circuits']['1']['circuit_config'] = f'{output_path}/circuit_config.json'\n",
    "\n",
    "# add edges_popul_name for each analysis\n",
    "\n",
    "for plot_type in cfg_dict['plot_types']:\n",
    "    plot_type['fct']['kwargs']['edges_popul_name'] = edge_pop_name\n",
    "\n",
    "with open(f'{working_dir}/structcomp_config.json', 'w') as f:\n",
    "    json.dump(cfg_dict, f, indent=2)"
   ]
  },
  {
   "cell_type": "code",
   "execution_count": 33,
   "metadata": {},
   "outputs": [
    {
     "data": {
      "text/plain": [
       "dict_keys(['working_dir', 'out_dir', 'circuits', 'plot_types'])"
      ]
     },
     "execution_count": 33,
     "metadata": {},
     "output_type": "execute_result"
    }
   ],
   "source": [
    "cfg_dict.keys()"
   ]
  },
  {
   "cell_type": "code",
   "execution_count": null,
   "metadata": {},
   "outputs": [],
   "source": []
  }
 ],
 "metadata": {
  "kernelspec": {
   "display_name": "venv_manip_paper",
   "language": "python",
   "name": "venv_manip_paper"
  },
  "language_info": {
   "codemirror_mode": {
    "name": "ipython",
    "version": 3
   },
   "file_extension": ".py",
   "mimetype": "text/x-python",
   "name": "python",
   "nbconvert_exporter": "python",
   "pygments_lexer": "ipython3",
   "version": "3.8.3"
  }
 },
 "nbformat": 4,
 "nbformat_minor": 4
}
