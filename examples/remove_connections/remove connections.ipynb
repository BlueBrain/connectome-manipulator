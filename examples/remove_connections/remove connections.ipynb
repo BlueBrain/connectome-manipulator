{
 "cells": [
  {
   "cell_type": "markdown",
   "metadata": {},
   "source": [
    "# Connectome Manipulation : Connection Removal\n",
    "\n",
    "## Introduction\n",
    "\n",
    "Welcome to this demonstration on manipulating connectomes within SONATA circuit models. This Jupyter notebook serves as a hands-on guide to understanding and implementing techniques for the modification of neural circuitry, with a particular focus on the removal of connections. Our exploration is designed to equip researchers and practitioners with the necessary tools and knowledge to advance their work in computational neuroscience and related fields.\n",
    "\n",
    "We will be removing 20% of connections between excitatory neurons in the circuit and 30% of the Inhibitory to Excitatory connections."
   ]
  },
  {
   "cell_type": "markdown",
   "metadata": {},
   "source": [
    "### Step 1: Download example circuit\n",
    "\n",
    "Download and uncompress SONATA network model of the rat somatosensory cortex from ZENODO (DOI [10.5281/zenodo.7930275](https://zenodo.org/doi/10.5281/zenodo.7930275)).\n"
   ]
  },
  {
   "cell_type": "markdown",
   "metadata": {},
   "source": [
    "### Step 2: Load necessary libraries and investigate the circuit content\n"
   ]
  },
  {
   "cell_type": "code",
   "execution_count": 1,
   "metadata": {},
   "outputs": [],
   "source": [
    "\"\"\" Global imports \"\"\"\n",
    "import json\n",
    "import os\n",
    "from pprint import pprint\n",
    "\n",
    "\"\"\" Local imports \"\"\"\n",
    "\n",
    "from connectome_manipulator.connectome_manipulation.manipulation import Manipulation\n",
    "# from connectome_manipulator.connectome_manipulation import connectome_manipulation\n",
    "# from connectome_manipulator.connectome_comparison import structural_comparator\n",
    "from pathlib import Path"
   ]
  },
  {
   "cell_type": "code",
   "execution_count": 2,
   "metadata": {},
   "outputs": [],
   "source": [
    "import connectome_manipulator"
   ]
  },
  {
   "cell_type": "code",
   "execution_count": 3,
   "metadata": {},
   "outputs": [],
   "source": [
    "# import circuit\n",
    "circuit_path = '/gpfs/bbp.cscs.ch/project/proj83/jira-tickets/NSETM-1948-extract-hex-O1/data/O1_data_physiology' # adjust the circuit config path\n",
    "circuit_config_path = f'{circuit_path}/circuit_config.json'\n",
    "circuit_name = 'SSCx'\n",
    "node_set = 'hex_0'\n",
    "\n",
    "working_dir = './'\n",
    "output_path = './output'\n",
    "os.makedirs(output_path,exist_ok=True)"
   ]
  },
  {
   "cell_type": "code",
   "execution_count": 4,
   "metadata": {},
   "outputs": [],
   "source": [
    "from bluepysnap import Circuit\n",
    "\n",
    "c = Circuit(circuit_config_path)"
   ]
  },
  {
   "cell_type": "code",
   "execution_count": 5,
   "metadata": {},
   "outputs": [
    {
     "data": {
      "text/plain": [
       "{'POm': <bluepysnap.nodes.node_population.NodePopulation at 0x2aab7e775340>,\n",
       " 'S1nonbarrel_neurons': <bluepysnap.nodes.node_population.NodePopulation at 0x2aab7e7753a0>,\n",
       " 'VPM': <bluepysnap.nodes.node_population.NodePopulation at 0x2aab7e7750a0>,\n",
       " 'external_S1nonbarrel_neurons__S1nonbarrel_neurons__chemical': <bluepysnap.nodes.node_population.NodePopulation at 0x2aab7e775430>,\n",
       " 'external_midrange__S1nonbarrel_neurons__chemical': <bluepysnap.nodes.node_population.NodePopulation at 0x2aab7e775490>}"
      ]
     },
     "execution_count": 5,
     "metadata": {},
     "output_type": "execute_result"
    }
   ],
   "source": [
    "c.nodes._populations"
   ]
  },
  {
   "cell_type": "code",
   "execution_count": 6,
   "metadata": {},
   "outputs": [
    {
     "data": {
      "text/plain": [
       "{'POm__S1nonbarrel_neurons__chemical': <bluepysnap.edges.edge_population.EdgePopulation at 0x2aab7e7759d0>,\n",
       " 'S1nonbarrel_neurons__S1nonbarrel_neurons__chemical': <bluepysnap.edges.edge_population.EdgePopulation at 0x2aab7e775a90>,\n",
       " 'VPM__S1nonbarrel_neurons__chemical': <bluepysnap.edges.edge_population.EdgePopulation at 0x2aab7e775280>,\n",
       " 'external_S1nonbarrel_neurons__S1nonbarrel_neurons__chemical': <bluepysnap.edges.edge_population.EdgePopulation at 0x2aab7e775910>,\n",
       " 'external_midrange__S1nonbarrel_neurons__chemical': <bluepysnap.edges.edge_population.EdgePopulation at 0x2aab7e775b50>,\n",
       " 'midrange__S1nonbarrel_neurons__chemical': <bluepysnap.edges.edge_population.EdgePopulation at 0x2aab7e775bb0>}"
      ]
     },
     "execution_count": 6,
     "metadata": {},
     "output_type": "execute_result"
    }
   ],
   "source": [
    "c.edges._populations"
   ]
  },
  {
   "cell_type": "code",
   "execution_count": 7,
   "metadata": {},
   "outputs": [
    {
     "name": "stdout",
     "output_type": "stream",
     "text": [
      "{'components': {'biophysical_neuron_models_dir': '/gpfs/bbp.cscs.ch/project/proj83/jira-tickets/NSETM-1948-extract-hex-O1/data/O1_data_physiology',\n",
      "                'mechanisms_dir': '/gpfs/bbp.cscs.ch/project/proj83/jira-tickets/NSETM-1948-extract-hex-O1/data/O1_data_physiology',\n",
      "                'morphologies_dir': '/gpfs/bbp.cscs.ch/project/proj83/jira-tickets/NSETM-1948-extract-hex-O1/data/O1_data_physiology',\n",
      "                'point_neuron_models_dir': '',\n",
      "                'provenance': {'atlas_dir': '/gpfs/bbp.cscs.ch/project/proj83/jira-tickets/NSETM-1948-extract-hex-O1/data/O1_data_physiology/atlas'},\n",
      "                'synaptic_models_dir': '',\n",
      "                'templates_dir': ''},\n",
      " 'networks': {'edges': [{'edges_file': '/gpfs/bbp.cscs.ch/project/proj83/jira-tickets/NSETM-1948-extract-hex-O1/data/O1_data_physiology/S1nonbarrel_neurons__S1nonbarrel_neurons__chemical/edges.h5',\n",
      "                         'populations': {'S1nonbarrel_neurons__S1nonbarrel_neurons__chemical': {'type': 'chemical'}}},\n",
      "                        {'edges_file': '/gpfs/bbp.cscs.ch/project/proj83/jira-tickets/NSETM-1948-extract-hex-O1/data/O1_data_physiology/VPM__S1nonbarrel_neurons__chemical/edges.h5',\n",
      "                         'populations': {'VPM__S1nonbarrel_neurons__chemical': {'type': 'chemical'}}},\n",
      "                        {'edges_file': '/gpfs/bbp.cscs.ch/project/proj83/jira-tickets/NSETM-1948-extract-hex-O1/data/O1_data_physiology/POm__S1nonbarrel_neurons__chemical/edges.h5',\n",
      "                         'populations': {'POm__S1nonbarrel_neurons__chemical': {'type': 'chemical'}}},\n",
      "                        {'edges_file': '/gpfs/bbp.cscs.ch/project/proj83/jira-tickets/NSETM-1948-extract-hex-O1/data/O1_data_physiology/midrange__S1nonbarrel_neurons__chemical/edges.h5',\n",
      "                         'populations': {'midrange__S1nonbarrel_neurons__chemical': {'type': 'chemical'}}},\n",
      "                        {'edges_file': '/gpfs/bbp.cscs.ch/project/proj83/jira-tickets/NSETM-1948-extract-hex-O1/data/O1_data_physiology/external_midrange__S1nonbarrel_neurons__chemical.h5',\n",
      "                         'populations': {'external_midrange__S1nonbarrel_neurons__chemical': {'type': 'chemical'}}},\n",
      "                        {'edges_file': '/gpfs/bbp.cscs.ch/project/proj83/jira-tickets/NSETM-1948-extract-hex-O1/data/O1_data_physiology/external_S1nonbarrel_neurons__S1nonbarrel_neurons__chemical.h5',\n",
      "                         'populations': {'external_S1nonbarrel_neurons__S1nonbarrel_neurons__chemical': {'type': 'chemical'}}}],\n",
      "              'nodes': [{'nodes_file': '/gpfs/bbp.cscs.ch/project/proj83/jira-tickets/NSETM-1948-extract-hex-O1/data/O1_data_physiology/S1nonbarrel_neurons/nodes.h5',\n",
      "                         'populations': {'S1nonbarrel_neurons': {'alternate_morphologies': {'neurolucida-asc': '/gpfs/bbp.cscs.ch/project/proj83/jira-tickets/NSETM-1948-extract-hex-O1/data/O1_data_physiology/morphologies/ascii'},\n",
      "                                                                 'biophysical_neuron_models_dir': '/gpfs/bbp.cscs.ch/project/proj83/jira-tickets/NSETM-1948-extract-hex-O1/data/O1_data_physiology/emodels_hoc',\n",
      "                                                                 'morphologies_dir': '/gpfs/bbp.cscs.ch/project/proj83/jira-tickets/NSETM-1948-extract-hex-O1/data/O1_data_physiology',\n",
      "                                                                 'type': 'biophysical'}}},\n",
      "                        {'nodes_file': '/gpfs/bbp.cscs.ch/project/proj83/jira-tickets/NSETM-1948-extract-hex-O1/data/O1_data_physiology/POm/nodes.h5',\n",
      "                         'populations': {'POm': {'type': 'virtual'}}},\n",
      "                        {'nodes_file': '/gpfs/bbp.cscs.ch/project/proj83/jira-tickets/NSETM-1948-extract-hex-O1/data/O1_data_physiology/VPM/nodes.h5',\n",
      "                         'populations': {'VPM': {'type': 'virtual'}}},\n",
      "                        {'nodes_file': '/gpfs/bbp.cscs.ch/project/proj83/jira-tickets/NSETM-1948-extract-hex-O1/data/O1_data_physiology/nodes_external_S1nonbarrel_neurons__S1nonbarrel_neurons__chemical.h5',\n",
      "                         'populations': {'external_S1nonbarrel_neurons__S1nonbarrel_neurons__chemical': {'type': 'virtual'}}},\n",
      "                        {'nodes_file': '/gpfs/bbp.cscs.ch/project/proj83/jira-tickets/NSETM-1948-extract-hex-O1/data/O1_data_physiology/nodes_external_midrange__S1nonbarrel_neurons__chemical.h5',\n",
      "                         'populations': {'external_midrange__S1nonbarrel_neurons__chemical': {'type': 'virtual'}}}]},\n",
      " 'node_sets_file': '/gpfs/bbp.cscs.ch/project/proj83/jira-tickets/NSETM-1948-extract-hex-O1/data/O1_data_physiology/node_sets.json',\n",
      " 'version': 2.3}\n"
     ]
    }
   ],
   "source": [
    "pprint(c.config)"
   ]
  },
  {
   "cell_type": "code",
   "execution_count": 12,
   "metadata": {},
   "outputs": [
    {
     "name": "stdout",
     "output_type": "stream",
     "text": [
      "{\n",
      "  \"working_dir\": \"./\",\n",
      "  \"out_dir\": \".output/\",\n",
      "  \"seed\": 7531,\n",
      "  \"circuit_config\": \"circuit_config.json\",\n",
      "  \"model\": {\n",
      "    \"name\": \"ConnProb1stOrder_hex_0\",\n",
      "    \"fct\": {\n",
      "      \"source\": \"conn_prob\",\n",
      "      \"kwargs\": {\n",
      "        \"order\": 1,\n",
      "        \"sel_src\": {\n",
      "          \"node_set\": \"hex_0\"\n",
      "        },\n",
      "        \"sel_dest\": {\n",
      "          \"node_set\": \"hex_0\"\n",
      "        },\n",
      "        \"sample_size\": null\n",
      "      }\n",
      "    }\n",
      "  }\n",
      "}\n"
     ]
    }
   ],
   "source": [
    "# Model building - Configuration\n",
    "\n",
    "model_config = {}\n",
    "\n",
    "\"\"\" General settings \"\"\"\n",
    "model_config['working_dir'] = './'\n",
    "model_config['out_dir'] = '.output/'\n",
    "model_config['seed'] = 7531\n",
    "\n",
    "\"\"\" Model specifications \"\"\"\n",
    "model_config['circuit_config'] = os.path.relpath(circuit_config_path, circuit_path)\n",
    "#model_config['model'] = {'name': 'ConnProb1stOrderCA1', 'fct': {'source': 'conn_prob', 'kwargs': {'order': 1, 'sample_size': 10000}}}\n",
    "model_config['model'] = {'name': f'ConnProb1stOrder_{node_set}',\n",
    "                          'fct': {'source': 'conn_prob',\n",
    "                                  'kwargs': {'order': 1,\n",
    "                                             'sel_src': {'node_set': node_set},\n",
    "                                             'sel_dest': {'node_set': node_set},\n",
    "                                             'sample_size': None}}}\n",
    "\n",
    "\n",
    "\n",
    "# Export model config for sbatch run\n",
    "config_path = f'./'  # TODO do these in the model folder\n",
    "Path(config_path).mkdir(parents=True, exist_ok=True)\n",
    "\n",
    "with open(os.path.join(config_path, f'model_config__{model_config[\"model\"][\"name\"]}.json'), 'w') as f:\n",
    "    json.dump(model_config, f, indent=2)\n",
    "print(json.dumps(model_config, indent=2))"
   ]
  },
  {
   "cell_type": "markdown",
   "metadata": {},
   "source": [
    "### Step 3: Create the Manipulation Config\n",
    "\n",
    "Now that we know our node and edge populations in the circuit, we can start adressing them in the config file to specify what type of manipulation we want to perform"
   ]
  },
  {
   "cell_type": "code",
   "execution_count": 8,
   "metadata": {},
   "outputs": [],
   "source": [
    "# Manipulation specifications\n",
    "manip_config = {}\n",
    "\n",
    "amount_pct = 100 # Amount of target neurons to rewire afferent connections to\n",
    "\n",
    "# prob_model_file = '/gpfs/bbp.cscs.ch/project/proj112/home/kurban/hippdiss-422/ca1_ca3_to_slice10_synaptome.npz'\n",
    "# delay_model_file = os.path.join(models_path, f'DistDepDelay.json')\n",
    "#flatpos_model_file = os.path.join(models_path, 'SSFlatPosMappingHexO1.json')\n",
    "# props_model_file = os.path.join(models_path, 'ConnPropsPerPathway.json')\n",
    "\n",
    "#prob_fn = os.path.split(prob_model_file)[1]\n",
    "#order = int(''.join(filter(str.isdigit, prob_fn[:str.find(prob_fn, 'Order')])))\n",
    "\n",
    "manip_config['edges_popul_name'] = 'S1nonbarrel_neurons__S1nonbarrel_neurons__chemical'\n",
    "manip_config['manip'] = {'name': f'{circuit_name}_remove_conns',\n",
    "                         'fcts': [{'source': 'conn_rewiring',\n",
    "                                   'kwargs': {'sel_src': {'node_set': node_set,'synapse_class': 'EXC'},\n",
    "                                              'sel_dest': {'node_set': node_set},\n",
    "                                              'syn_class': 'EXC',\n",
    "                                              'keep_indegree': False,\n",
    "                                              'reuse_conns': True,\n",
    "                                              'gen_method': 'duplicate_randomize', \n",
    "                                              'amount_pct': amount_pct,\n",
    "                                              ''\n",
    "                                             }},\n",
    "                                  {'source': 'conn_rewiring',\n",
    "                                   'kwargs': {'sel_src': {'node_set': node_set,'synapse_class': 'INH'},\n",
    "                                              'sel_dest': {'node_set': node_set},\n",
    "                                              'syn_class': 'INH',\n",
    "                                              'keep_indegree': False,\n",
    "                                              'reuse_conns': True,\n",
    "                                              'gen_method': 'duplicate_randomize', \n",
    "                                              'amount_pct': amount_pct,\n",
    "                                             }},\n",
    "                                 ]}\n",
    "\n",
    "## General settings\n",
    "manip_config['circuit_path'] = circuit_path\n",
    "manip_config['circuit_config'] = os.path.relpath(circuit_config_path, circuit_path) # SONATA (.json) format; path rel. to 'circuit_path'\n",
    "manip_config['output_path'] = f\"{output_path}/{manip_config['manip']['name']}\"\n",
    "manip_config['seed'] = 3220\n",
    "manip_config['N_split_nodes'] = 40\n",
    "manip_config['working_dir'] = f'{working_dir}'\n"
   ]
  },
  {
   "cell_type": "code",
   "execution_count": 9,
   "metadata": {},
   "outputs": [
    {
     "name": "stdout",
     "output_type": "stream",
     "text": [
      "{'N_split_nodes': 40,\n",
      " 'circuit_config': 'circuit_config.json',\n",
      " 'circuit_path': '/gpfs/bbp.cscs.ch/project/proj83/jira-tickets/NSETM-1948-extract-hex-O1/data/O1_data_physiology',\n",
      " 'edges_popul_name': 'S1nonbarrel_neurons__S1nonbarrel_neurons__chemical',\n",
      " 'manip': {'fcts': [{'kwargs': {'amount_pct': 100,\n",
      "                                'gen_method': 'duplicate_randomize',\n",
      "                                'keep_indegree': False,\n",
      "                                'reuse_conns': True,\n",
      "                                'sel_dest': {'node_set': 'hex_0'},\n",
      "                                'sel_src': {'node_set': 'hex_0',\n",
      "                                            'synapse_class': 'EXC'},\n",
      "                                'syn_class': 'EXC'},\n",
      "                     'source': 'conn_rewiring'},\n",
      "                    {'kwargs': {'amount_pct': 100,\n",
      "                                'gen_method': 'duplicate_randomize',\n",
      "                                'keep_indegree': False,\n",
      "                                'reuse_conns': True,\n",
      "                                'sel_dest': {'node_set': 'hex_0'},\n",
      "                                'sel_src': {'node_set': 'hex_0',\n",
      "                                            'synapse_class': 'INH'},\n",
      "                                'syn_class': 'INH'},\n",
      "                     'source': 'conn_rewiring'}],\n",
      "           'name': 'SSCx_remove_conns'},\n",
      " 'output_path': './output/SSCx_remove_conns',\n",
      " 'seed': 3220,\n",
      " 'working_dir': './'}\n"
     ]
    }
   ],
   "source": [
    "pprint(manip_config)"
   ]
  },
  {
   "cell_type": "code",
   "execution_count": 11,
   "metadata": {},
   "outputs": [],
   "source": [
    "# Export model config for sbatch run\n",
    "\n",
    "with open(os.path.join(working_dir, f'manip_config.json'), 'w') as f:\n",
    "    json.dump(manip_config, f, indent=2)"
   ]
  },
  {
   "cell_type": "markdown",
   "metadata": {},
   "source": [
    "### Step 3: Run the connectome manipulator\n",
    "\n",
    "Now that we defined the manipulator config file, we can call the main method of the connectome manipulator from python. "
   ]
  },
  {
   "cell_type": "markdown",
   "metadata": {},
   "source": [
    "~~~\n",
    "sbatch run_rewiring_parallel.sh \"manip_config.json\" \"/gpfs/bbp.cscs.ch/project/proj112/home/kurban/christoph_paper/connectome_manipulator/examples/remove_connections/output\" 500\n",
    "~~~"
   ]
  },
  {
   "cell_type": "code",
   "execution_count": null,
   "metadata": {},
   "outputs": [],
   "source": [
    "# Connectome manipulation - Apply manipulation\n",
    "## Run from notebook with the latest connectome manipulator !!! \n",
    "#connectome_manipulation.main(manip_config, do_profiling=True, do_resume=False, keep_parquet=False)\n",
    "\n",
    "## Run using sbatch\n",
    "# COMMAND: sbatch run_rewiring.sh <manip_config>.json 1 0 0"
   ]
  },
  {
   "cell_type": "code",
   "execution_count": null,
   "metadata": {},
   "outputs": [],
   "source": [
    "from subprocess import PIPE, run"
   ]
  },
  {
   "cell_type": "code",
   "execution_count": null,
   "metadata": {},
   "outputs": [],
   "source": [
    "# run rewiring\n",
    "\n",
    "idx = 0\n",
    "rewiring_script = '/gpfs/bbp.cscs.ch/project/proj112/home/kurban/HIPPDISS-470/connectome_manipulator/examples/working_dir/model_building/20211110-BioM_slice10/model/run_rewiring.sh'\n",
    "for i in os.listdir(config_path):\n",
    "    if not i.endswith('percent.json'):\n",
    "        continue\n",
    "\n",
    "    #if idx == 0:\n",
    "    #    idx+=1\n",
    "    #    continue\n",
    "\n",
    "    print(idx,end=' ')\n",
    "    idx+=1\n",
    "\n",
    "    command = ['sbatch',rewiring_script,f'{config_path}/{i}','1','0','0']\n",
    "    #print(command)\n",
    "\n",
    "    result = run(command, stdout=PIPE, stderr=PIPE, universal_newlines=True)\n",
    "    print(result.returncode, result.stdout, result.stderr)\n",
    "    #break"
   ]
  }
 ],
 "metadata": {
  "kernelspec": {
   "display_name": "Python 3",
   "language": "python",
   "name": "python3"
  },
  "language_info": {
   "codemirror_mode": {
    "name": "ipython",
    "version": 3
   },
   "file_extension": ".py",
   "mimetype": "text/x-python",
   "name": "python",
   "nbconvert_exporter": "python",
   "pygments_lexer": "ipython3",
   "version": "3.7.4"
  }
 },
 "nbformat": 4,
 "nbformat_minor": 4
}
